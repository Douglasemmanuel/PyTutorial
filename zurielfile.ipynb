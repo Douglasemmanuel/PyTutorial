{
 "cells": [
  {
   "cell_type": "code",
   "execution_count": null,
   "metadata": {},
   "outputs": [],
   "source": [
    "def add(x,y):\n",
    "    return x + y\n",
    "\n"
   ]
  },
  {
   "cell_type": "code",
   "execution_count": 1,
   "metadata": {},
   "outputs": [
    {
     "name": "stdout",
     "output_type": "stream",
     "text": [
      "Hello, World!\n"
     ]
    }
   ],
   "source": [
    "print(\"Hello, World!\")\n"
   ]
  },
  {
   "cell_type": "code",
   "execution_count": 3,
   "metadata": {},
   "outputs": [
    {
     "ename": "SyntaxError",
     "evalue": "(unicode error) 'unicodeescape' codec can't decode bytes in position 2-3: truncated \\UXXXXXXXX escape (2933234791.py, line 1)",
     "output_type": "error",
     "traceback": [
      "\u001b[1;36m  Input \u001b[1;32mIn [3]\u001b[1;36m\u001b[0m\n\u001b[1;33m    file = open(\"C:\\Users\\faith\\Documents\\world.txt.txt\",\"rt\")\u001b[0m\n\u001b[1;37m                                                        ^\u001b[0m\n\u001b[1;31mSyntaxError\u001b[0m\u001b[1;31m:\u001b[0m (unicode error) 'unicodeescape' codec can't decode bytes in position 2-3: truncated \\UXXXXXXXX escape\n"
     ]
    }
   ],
   "source": [
    "# creating variable to store the\n",
    "# number of words\n",
    "number_of_words = 0\n",
    "\n",
    "# Opening our text file in read only\n",
    "# mode using the open() function\n",
    "with open(r'SampleFile.txt','r') as file:\n",
    "\n",
    "\t# Reading the content of the file\n",
    "\t# using the read() function and storing\n",
    "\t# them in a new variable\n",
    "\tdata = file.read()\n",
    "\n",
    "\t# Splitting the data into separate lines\n",
    "\t# using the split() function\n",
    "\tlines = data.split()\n",
    "\n",
    "\t# Iterating over every word in\n",
    "\t# lines\n",
    "\tfor word in lines:\n",
    "\n",
    "\t\t# checking if the word is numeric or not\n",
    "\t\tif not word.isnumeric():\t\t\n",
    "\n",
    "\t\t\t# Adding the length of the\n",
    "\t\t\t# lines in our number_of_words\n",
    "\t\t\t# variable\n",
    "\t\t\tnumber_of_words += 1\n",
    "\n",
    "# Printing total number of words\n",
    "print(number_of_words)\n"
   ]
  },
  {
   "cell_type": "code",
   "execution_count": 4,
   "metadata": {},
   "outputs": [
    {
     "name": "stdout",
     "output_type": "stream",
     "text": [
      "sum: 4\n"
     ]
    }
   ],
   "source": [
    "a = int(input(\"enter first number: \"))\n",
    "b = int(input(\"enter second number: \"))\n",
    "sum = a + b\n",
    "print(\"sum:\", sum)"
   ]
  },
  {
   "cell_type": "code",
   "execution_count": 1,
   "metadata": {},
   "outputs": [
    {
     "name": "stdout",
     "output_type": "stream",
     "text": [
      "Select operation.\n",
      "1.Add\n",
      "2.Subtract\n",
      "3.Multiply\n",
      "4.Divide\n",
      "5.Modulus\n",
      "2.0 + 3.0 = 5.0\n"
     ]
    }
   ],
   "source": [
    "# Program make a simple calculator\n",
    "\n",
    "# This function adds two numbers\n",
    "def add(x, y):\n",
    "    return x + y\n",
    "\n",
    "# This function subtracts two numbers\n",
    "def subtract(x, y):\n",
    "    return x - y\n",
    "\n",
    "# This function multiplies two numbers\n",
    "def multiply(x, y):\n",
    "    return x * y\n",
    "\n",
    "# This function divides two numbers\n",
    "def divide(x, y):\n",
    "    return x / y\n",
    "\n",
    "# This function get the modulus2 two numbers\n",
    "def Modulus(x, y):\n",
    "    return x % y\n",
    "\n",
    "\n",
    "print(\"Select operation.\")\n",
    "print(\"1.Add\")\n",
    "print(\"2.Subtract\")\n",
    "print(\"3.Multiply\")\n",
    "print(\"4.Divide\")\n",
    "print(\"5.Modulus\")\n",
    "\n",
    "while True:\n",
    "    # take input from the user\n",
    "    choice = input(\"Enter choice(1/2/3/4/5): \")\n",
    "\n",
    "    # check if choice is one of the four options\n",
    "    if choice in ('1', '2', '3', '4','5'):\n",
    "        num1 = float(input(\"Enter first number: \"))\n",
    "        num2 = float(input(\"Enter second number: \"))\n",
    "\n",
    "        if choice == '1':\n",
    "            print(num1, \"+\", num2, \"=\", add(num1, num2))\n",
    "\n",
    "        elif choice == '2':\n",
    "            print(num1, \"-\", num2, \"=\", subtract(num1, num2))\n",
    "\n",
    "        elif choice == '3':\n",
    "            print(num1, \"*\", num2, \"=\", multiply(num1, num2))\n",
    "\n",
    "        elif choice == '4':\n",
    "            print(num1, \"/\", num2, \"=\", divide(num1, num2))\n",
    "\n",
    "        elif choice == '5':\n",
    "            print(num1, \"%\", num2, \"=\", Modulus(num1, num2))\n",
    "        \n",
    "        # check if user wants another calculation\n",
    "        # break the while loop if answer is no\n",
    "        next_calculation = input(\"Let's do next calculation? (yes/no): \")\n",
    "        if next_calculation == \"no\":\n",
    "          break\n",
    "    \n",
    "    else:\n",
    "        print(\"Invalid Input\")"
   ]
  },
  {
   "cell_type": "code",
   "execution_count": 6,
   "metadata": {},
   "outputs": [
    {
     "name": "stdout",
     "output_type": "stream",
     "text": [
      "7\n"
     ]
    }
   ],
   "source": [
    "\n",
    "number_of_words = 0\n",
    "\n",
    "with open(r'C:\\Users\\faith\\Documents\\world.txt','r') as file:\n",
    "\n",
    "\tdata = file.read()\n",
    "\tlines = data.split()\n",
    "\tfor word in lines:\n",
    "\t\tif not word.isnumeric():\t\t\n",
    "\t\t\tnumber_of_words += 1\n",
    "print(number_of_words)\n"
   ]
  },
  {
   "cell_type": "code",
   "execution_count": 5,
   "metadata": {},
   "outputs": [
    {
     "ename": "SyntaxError",
     "evalue": "invalid syntax (1195223617.py, line 6)",
     "output_type": "error",
     "traceback": [
      "\u001b[1;36m  Input \u001b[1;32mIn [5]\u001b[1;36m\u001b[0m\n\u001b[1;33m    def read_file_content(world.txt):\u001b[0m\n\u001b[1;37m                               ^\u001b[0m\n\u001b[1;31mSyntaxError\u001b[0m\u001b[1;31m:\u001b[0m invalid syntax\n"
     ]
    }
   ],
   "source": [
    "# Read text from a file, and count the occurence of words in that text\n",
    "# Example:\n",
    "# count_words(\"The cake is done. It is a big cake!\") \n",
    "# --> {\"cake\":2, \"big\":1, \"is\":2, \"the\":1, \"a\":1, \"it\":1}\n",
    "\n",
    "def read_file_content(world.txt):\n",
    "    # [assignment] Add your code here \n",
    "    \n",
    "    return \"Hello World\"\n",
    "\n",
    "\n",
    "def count_words():\n",
    "    text = read_file_content(\"./world.txt\")\n",
    "    # [assignment] Add your code here\n",
    "\n",
    "    return {\"as\": 10, \"would\": 20}"
   ]
  },
  {
   "cell_type": "code",
   "execution_count": 2,
   "metadata": {},
   "outputs": [
    {
     "ename": "SyntaxError",
     "evalue": "positional argument follows keyword argument (2039904356.py, line 9)",
     "output_type": "error",
     "traceback": [
      "\u001b[1;36m  Input \u001b[1;32mIn [2]\u001b[1;36m\u001b[0m\n\u001b[1;33m    peter = Student(name=\"peter\",age=34,tracks=[\"UI/UX\"],score)\u001b[0m\n\u001b[1;37m                                                              ^\u001b[0m\n\u001b[1;31mSyntaxError\u001b[0m\u001b[1;31m:\u001b[0m positional argument follows keyword argument\n"
     ]
    }
   ],
   "source": [
    "class Student:\n",
    "    # [assignment] Skeleton class. Add your code here\n",
    "    def __init__(self):\n",
    "        pass\n",
    "\n",
    "\n",
    "\n",
    "Bob = Student(name=\"Bob\", age=26, tracks=[\"FE\",\"BE\"],score=20.90)\n",
    "# Expected methods\n",
    "Bob.change_name(\"Peter\")\n",
    "Bob.change_age(34)\n",
    "Bob.add_track(\"UI/UX\")\n",
    "Bob.get_score()\n",
    "\n"
   ]
  },
  {
   "cell_type": "code",
   "execution_count": 1,
   "metadata": {},
   "outputs": [
    {
     "name": "stdout",
     "output_type": "stream",
     "text": [
      "Winning Rules of the Rock paper scissor game as follows: \n",
      "Rock vs paper->paper wins \n",
      "Rock vs scissor->Rock wins \n",
      "paper vs scissor->scissor wins \n",
      "\n",
      "Enter choice \n",
      " 1 for Rock, \n",
      " 2 for paper, and \n",
      " 3 for scissor \n",
      "\n",
      "user choice is: paper\n",
      "\n",
      "Now its computer turn.......\n",
      "Computer choice is: scissor\n",
      "paper V/s scissor\n",
      "scissor wins =><== Computer wins ==>\n",
      "Do you want to play again? (Y/N)\n",
      "Enter choice \n",
      " 1 for Rock, \n",
      " 2 for paper, and \n",
      " 3 for scissor \n",
      "\n",
      "user choice is: Rock\n",
      "\n",
      "Now its computer turn.......\n",
      "Computer choice is: paper\n",
      "Rock V/s paper\n",
      "paper wins => <== Computer wins ==>\n",
      "Do you want to play again? (Y/N)\n"
     ]
    }
   ],
   "source": [
    "# import random module\n",
    "import random\n",
    "\n",
    "# Print multiline instruction\n",
    "# performstring concatenation of string\n",
    "print(\"Winning Rules of the Rock paper scissor game as follows: \\n\"\n",
    "\t\t\t\t\t\t\t\t+\"Rock vs paper->paper wins \\n\"\n",
    "\t\t\t\t\t\t\t\t+ \"Rock vs scissor->Rock wins \\n\"\n",
    "\t\t\t\t\t\t\t\t+\"paper vs scissor->scissor wins \\n\")\n",
    "\n",
    "while True:\n",
    "\tprint(\"Enter choice \\n 1 for Rock, \\n 2 for paper, and \\n 3 for scissor \\n\")\n",
    "\t\n",
    "\t# take the input from user\n",
    "\tchoice = int(input(\"User turn: \"))\n",
    "\n",
    "\t# OR is the short-circuit operator\n",
    "\t# if any one of the condition is true\n",
    "\t# then it return True value\n",
    "\t\n",
    "\t# looping until user enter invalid input\n",
    "\twhile choice > 3 or choice < 1:\n",
    "\t\tchoice = int(input(\"enter valid input: \"))\n",
    "\t\t\n",
    "\n",
    "\t# initialize value of choice_name variable\n",
    "\t# corresponding to the choice value\n",
    "\tif choice == 1:\n",
    "\t\tchoice_name = 'Rock'\n",
    "\telif choice == 2:\n",
    "\t\tchoice_name = 'paper'\n",
    "\telse:\n",
    "\t\tchoice_name = 'scissor'\n",
    "\t\t\n",
    "\t# print user choice\n",
    "\tprint(\"user choice is: \" + choice_name)\n",
    "\tprint(\"\\nNow its computer turn.......\")\n",
    "\n",
    "\t# Computer chooses randomly any number\n",
    "\t# among 1 , 2 and 3. Using randint method\n",
    "\t# of random module\n",
    "\tcomp_choice = random.randint(1, 3)\n",
    "\t\n",
    "\t# looping until comp_choice value\n",
    "\t# is equal to the choice value\n",
    "\twhile comp_choice == choice:\n",
    "\t\tcomp_choice = random.randint(1, 3)\n",
    "\n",
    "\t# initialize value of comp_choice_name\n",
    "\t# variable corresponding to the choice value\n",
    "\tif comp_choice == 1:\n",
    "\t\tcomp_choice_name = 'Rock'\n",
    "\telif comp_choice == 2:\n",
    "\t\tcomp_choice_name = 'paper'\n",
    "\telse:\n",
    "\t\tcomp_choice_name = 'scissor'\n",
    "\t\t\n",
    "\tprint(\"Computer choice is: \" + comp_choice_name)\n",
    "\n",
    "\tprint(choice_name + \" V/s \" + comp_choice_name)\n",
    "\n",
    "\t# condition for winning\n",
    "\tif((choice == 1 and comp_choice == 2) or\n",
    "\t(choice == 2 and comp_choice ==1 )):\n",
    "\t\tprint(\"paper wins => \", end = \"\")\n",
    "\t\tresult = \"paper\"\n",
    "\t\t\n",
    "\telif((choice == 1 and comp_choice == 3) or\n",
    "\t\t(choice == 3 and comp_choice == 1)):\n",
    "\t\tprint(\"Rock wins =>\", end = \"\")\n",
    "\t\tresult = \"Rock\"\n",
    "\telse:\n",
    "\t\tprint(\"scissor wins =>\", end = \"\")\n",
    "\t\tresult = \"scissor\"\n",
    "\n",
    "\t# Printing either user or computer wins\n",
    "\tif result == choice_name:\n",
    "\t\tprint(\"<== User wins ==>\")\n",
    "\telse:\n",
    "\t\tprint(\"<== Computer wins ==>\")\n",
    "\t\t\n",
    "\tprint(\"Do you want to play again? (Y/N)\")\n",
    "\tans = input()\n",
    "\n",
    "\n",
    "\t# if user input n or N then condition is True\n",
    "\tif ans == 'n' or ans == 'N':\n",
    "\t\tbreak\n",
    "\t\n",
    "# after coming out of the while loop\n",
    "# we print thanks for playing\n",
    "print(\"\\nThanks for playing\")\n"
   ]
  }
 ],
 "metadata": {
  "interpreter": {
   "hash": "31d86718aa02c16607ffb36e0cdbfec7bd6574c5eafc23aec75a4bc0a8ef6b38"
  },
  "kernelspec": {
   "display_name": "Python 3.10.4 64-bit",
   "language": "python",
   "name": "python3"
  },
  "language_info": {
   "codemirror_mode": {
    "name": "ipython",
    "version": 3
   },
   "file_extension": ".py",
   "mimetype": "text/x-python",
   "name": "python",
   "nbconvert_exporter": "python",
   "pygments_lexer": "ipython3",
   "version": "3.10.4"
  },
  "orig_nbformat": 4
 },
 "nbformat": 4,
 "nbformat_minor": 2
}
