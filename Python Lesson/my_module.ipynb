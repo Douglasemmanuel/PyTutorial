{
 "cells": [
  {
   "cell_type": "code",
   "execution_count": 1,
   "metadata": {},
   "outputs": [
    {
     "name": "stdout",
     "output_type": "stream",
     "text": [
      "Help on module my_module:\n",
      "\n",
      "NAME\n",
      "    my_module - This module is for arithemetical operation\n",
      "\n",
      "FUNCTIONS\n",
      "    Addition(a: int | float, b: int | float) -> int | float\n",
      "        This Function Adds two numbers either float or int e.g add(1,2)->3\n",
      "    \n",
      "    Division(a: int | float, b: int | float) -> int | float\n",
      "        This Function Divides two numbers either float or int e.g add(2,1)->1\n",
      "    \n",
      "    Substraction(a: int | float, b: int | float) -> int | float\n",
      "        This Function Substracts two numbers either float or int e.g add(2,1)->1\n",
      "    \n",
      "    multipication(a: int | float, b: int | float) -> int | float\n",
      "        This Function Multiplies two numbers either float or int e.g add(2,1)->2\n",
      "\n",
      "FILE\n",
      "    c:\\users\\faith\\desktop\\python\\python lesson\\my_module.py\n",
      "\n",
      "\n"
     ]
    }
   ],
   "source": [
    "import my_module\n",
    "help(my_module)"
   ]
  },
  {
   "cell_type": "code",
   "execution_count": 3,
   "metadata": {},
   "outputs": [
    {
     "name": "stdout",
     "output_type": "stream",
     "text": [
      "9\n",
      "20\n"
     ]
    }
   ],
   "source": [
    "\n",
    "val = my_module.Addition(4,5)\n",
    "print(val)\n",
    "res = my_module.multipication(4,5)\n",
    "print(res)"
   ]
  },
  {
   "cell_type": "code",
   "execution_count": 5,
   "metadata": {},
   "outputs": [
    {
     "name": "stdout",
     "output_type": "stream",
     "text": [
      "Help on function Addition in module my_module:\n",
      "\n",
      "Addition(a: int | float, b: int | float) -> int | float\n",
      "    This Function Adds two numbers either float or int e.g add(1,2)->3\n",
      "\n",
      "4\n"
     ]
    }
   ],
   "source": [
    "# importing a specific function from modules\n",
    "from my_module import Addition\n",
    "help(Addition)\n",
    "val = Addition(2,2)\n",
    "print(val)"
   ]
  },
  {
   "cell_type": "code",
   "execution_count": 1,
   "metadata": {},
   "outputs": [
    {
     "name": "stdout",
     "output_type": "stream",
     "text": [
      "Help on module my_physicsmodule:\n",
      "\n",
      "NAME\n",
      "    my_physicsmodule - This module is for solving Phyics Question\n",
      "\n",
      "FUNCTIONS\n",
      "    Acceleration(v: int | float, u: int | float, t: int | float) -> int | float\n",
      "        This function helps in calculating the Acceleration\n",
      "    \n",
      "    Density(m: int | float, v: int | float) -> int | float\n",
      "        This function helps in calculating the Density\n",
      "    \n",
      "    Force(m: int | float, a: int | float) -> int | float\n",
      "        This function helps in calculating the Force\n",
      "    \n",
      "    Power(w: int | float, t: int | float) -> int | float\n",
      "        This function helps in calculating the Power\n",
      "    \n",
      "    Pressure(F: int | float, A: int | float) -> int | float\n",
      "        This function helps in calculating the Acceleration\n",
      "    \n",
      "    Speed(d: int | float, t: int | float) -> int | float\n",
      "        This function helps in calculating the Speed\n",
      "\n",
      "FILE\n",
      "    c:\\users\\faith\\desktop\\python\\python lesson\\my_physicsmodule.py\n",
      "\n",
      "\n"
     ]
    }
   ],
   "source": [
    "import my_physicsmodule\n",
    "help(my_physicsmodule)"
   ]
  },
  {
   "cell_type": "code",
   "execution_count": 9,
   "metadata": {},
   "outputs": [
    {
     "name": "stdout",
     "output_type": "stream",
     "text": [
      "3.0\n",
      "2.0\n",
      "Help on module my_physicsmodule:\n",
      "\n",
      "NAME\n",
      "    my_physicsmodule - This module is for solving Phyics Question\n",
      "\n",
      "FUNCTIONS\n",
      "    Acceleration(v: int | float, u: int | float, t: int | float) -> int | float\n",
      "        This function helps in calculating the Acceleration\n",
      "    \n",
      "    Density(m: int | float, v: int | float) -> int | float\n",
      "        This function helps in calculating the Density\n",
      "    \n",
      "    Force(m: int | float, a: int | float) -> int | float\n",
      "        This function helps in calculating the Force\n",
      "    \n",
      "    Power(w: int | float, t: int | float) -> int | float\n",
      "        This function helps in calculating the Power\n",
      "    \n",
      "    Pressure(F: int | float, A: int | float) -> int | float\n",
      "        This function helps in calculating the Acceleration\n",
      "    \n",
      "    Speed(d: int | float, t: int | float) -> int | float\n",
      "        This function helps in calculating the Speed\n",
      "\n",
      "FILE\n",
      "    c:\\users\\faith\\desktop\\python\\python lesson\\my_physicsmodule.py\n",
      "\n",
      "\n"
     ]
    }
   ],
   "source": [
    "from my_physicsmodule import Pressure\n",
    "val = Pressure(6,2)\n",
    "print(val)\n",
    "from my_physicsmodule import  Speed\n",
    "spp = Speed(6,3)\n",
    "print(spp)\n"
   ]
  },
  {
   "cell_type": "code",
   "execution_count": 10,
   "metadata": {},
   "outputs": [
    {
     "name": "stdout",
     "output_type": "stream",
     "text": [
      "Help on module my_physicsmodule:\n",
      "\n",
      "NAME\n",
      "    my_physicsmodule - This module is for solving Phyics Question\n",
      "\n",
      "FUNCTIONS\n",
      "    Acceleration(v: int | float, u: int | float, t: int | float) -> int | float\n",
      "        This function helps in calculating the Acceleration\n",
      "    \n",
      "    Density(m: int | float, v: int | float) -> int | float\n",
      "        This function helps in calculating the Density\n",
      "    \n",
      "    Force(m: int | float, a: int | float) -> int | float\n",
      "        This function helps in calculating the Force\n",
      "    \n",
      "    Power(w: int | float, t: int | float) -> int | float\n",
      "        This function helps in calculating the Power\n",
      "    \n",
      "    Pressure(F: int | float, A: int | float) -> int | float\n",
      "        This function helps in calculating the Acceleration\n",
      "    \n",
      "    Speed(d: int | float, t: int | float) -> int | float\n",
      "        This function helps in calculating the Speed\n",
      "\n",
      "FILE\n",
      "    c:\\users\\faith\\desktop\\python\\python lesson\\my_physicsmodule.py\n",
      "\n",
      "\n"
     ]
    }
   ],
   "source": [
    "# you can also assign a name to your modules name\n",
    "import my_physicsmodule as Physics\n",
    "help(Physics)"
   ]
  }
 ],
 "metadata": {
  "kernelspec": {
   "display_name": "Python 3.10.4 64-bit",
   "language": "python",
   "name": "python3"
  },
  "language_info": {
   "codemirror_mode": {
    "name": "ipython",
    "version": 3
   },
   "file_extension": ".py",
   "mimetype": "text/x-python",
   "name": "python",
   "nbconvert_exporter": "python",
   "pygments_lexer": "ipython3",
   "version": "3.10.4"
  },
  "orig_nbformat": 4,
  "vscode": {
   "interpreter": {
    "hash": "31d86718aa02c16607ffb36e0cdbfec7bd6574c5eafc23aec75a4bc0a8ef6b38"
   }
  }
 },
 "nbformat": 4,
 "nbformat_minor": 2
}
