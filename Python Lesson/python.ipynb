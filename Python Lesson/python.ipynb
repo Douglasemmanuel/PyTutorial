{
 "cells": [
  {
   "cell_type": "code",
   "execution_count": 5,
   "metadata": {},
   "outputs": [
    {
     "name": "stdout",
     "output_type": "stream",
     "text": [
      "29\n",
      "e\n"
     ]
    }
   ],
   "source": [
    "#Inclusion operator(in)\n",
    "\n",
    "Anam = \"boy\"\n",
    "workplace = \"roothub\"\n",
    "age =   29\n",
    "if Anam == \"boy\" and workplace == \"roothub\" :\n",
    "    print(age)\n",
    "else:\n",
    "    print(\"heyo\")\n",
    "\n",
    "\n",
    "\n",
    "# Ternary operator\n",
    "gender = \"male\"\n",
    "\"He is a boy\" if gender == \"male\"  else \"she is a girl\"\n",
    "\n",
    "# index\n",
    "my_name = \"emmanuel\"\n",
    "var = my_name[0]\n",
    "print(var)"
   ]
  },
  {
   "cell_type": "code",
   "execution_count": 32,
   "metadata": {},
   "outputs": [
    {
     "name": "stdout",
     "output_type": "stream",
     "text": [
      "45\n",
      "<class 'str'>\n",
      "DOUGLAS EMMANUEL is 45 years old.\n",
      "DOUGLAS  EMMANUEL 45\n",
      "EMMANUEL  DOUGLAS 45\n",
      "DOUGLAS  EMMANUEL 45\n",
      "The \"red\" color is the best color\n",
      "Hello \tWorld\n",
      "Hello\n",
      "World\n",
      "True\n",
      "S is present in our main string\n",
      "m\n",
      "I\n",
      " \n",
      "a\n",
      "m\n",
      " \n",
      "a\n",
      " \n",
      "s\n",
      "t\n",
      "r\n",
      "i\n",
      "n\n",
      "g\n",
      " am a strin\n"
     ]
    }
   ],
   "source": [
    "# string\n",
    "# string conversion\n",
    "numb = 45\n",
    "value = str(numb)\n",
    "print(value)\n",
    "game = type(value)\n",
    "print(game)\n",
    "# string concatenation\n",
    "first_name = \"DOUGLAS\"\n",
    "last_name = \"EMMANUEL\"\n",
    "age = 45\n",
    "full_name = first_name + \" \" + last_name + \" \" + \"is\" + \" \" + str (age) + \" \" + \"years old.\"\n",
    "print(full_name)\n",
    "# string Format\n",
    "full_identiy = \"{}  {} {}\"\n",
    "full_identiy = full_identiy.format(first_name,last_name,age)\n",
    "print(full_identiy)\n",
    "# string format(with index)\n",
    "full_label = \"{1}  {0} {2}\"\n",
    "full_label = full_label.format(first_name,last_name,age)\n",
    "print(full_label)\n",
    "# strings : f-strings\n",
    "full_figure = f\"{first_name}  {last_name} {age}\"\n",
    "print(full_figure)\n",
    "# strings : Escape Characters\n",
    "a_message = \"The \\\"red\\\" color is the best color\"\n",
    "print(a_message)\n",
    "a_message1 = \"Hello \\tWorld\"\n",
    "print(a_message1)\n",
    "a_message2 = \"Hello\\nWorld\"\n",
    "print(a_message2)\n",
    "# substrings in strings\n",
    "main_str = \"I am a string\"\n",
    "print(\"string\" in main_str)\n",
    "if(\"S\"  not in main_str):\n",
    "    print(\"S is present in our main string\")\n",
    "# strings as Array\n",
    "# using for\n",
    "# for x in range(len(main_str)):\n",
    "#   print(main_str[x])  \n",
    "main_str[3]\n",
    "print(main_str[3])\n",
    "for char in main_str:\n",
    "    print(char) \n",
    "# geting a substring\n",
    "print(main_str[1:-1])"
   ]
  },
  {
   "cell_type": "code",
   "execution_count": 24,
   "metadata": {},
   "outputs": [
    {
     "name": "stdout",
     "output_type": "stream",
     "text": [
      "I AM STRING\n",
      "i am string\n",
      "I Am String\n",
      "i AM STRING\n",
      "13\n",
      "13\n",
      "13\n",
      "I am a strin\n",
      "13\n",
      "False\n",
      "14\n",
      "2\n",
      "0\n"
     ]
    }
   ],
   "source": [
    "# in-Built String Method\n",
    "\n",
    "main_str = \"I am string\"\n",
    "print(main_str.upper())\n",
    "print(main_str.lower())\n",
    "print(main_str.title())\n",
    "print(main_str.swapcase())\n",
    "# Trilling Characters white spaces\n",
    "main_root = \"I am a string\"\n",
    "print(len(main_root.rstrip()))\n",
    "print(len(main_root.lstrip()))\n",
    "print(len(main_root.strip()))\n",
    "print(main_root.strip(\"g\"))\n",
    "print(len(main_root))\n",
    "# isspace\n",
    "print(main_root.isspace())\n",
    "# countmethod\n",
    "print(main_root.count(\"\"))\n",
    "#find\n",
    "print(main_root.find(\"am\"))\n",
    "print(main_root.index(\"I\"))\n"
   ]
  },
  {
   "cell_type": "code",
   "execution_count": 19,
   "metadata": {},
   "outputs": [
    {
     "name": "stdout",
     "output_type": "stream",
     "text": [
      "['milo', 'milk', 'malt', 'biscuit', 'monster drink']\n",
      "milo\n",
      "milk\n",
      "malt\n",
      "biscuit\n",
      "monster drink\n",
      "milo\n",
      "milk\n",
      "malt\n",
      "biscuit\n",
      "monster drink\n",
      "12\n",
      "1\n"
     ]
    }
   ],
   "source": [
    "# list\n",
    "my_food_item_list = [\"milo\",\"milk\",\"cornflask\",\"biscuit\",\"monster drink\"]\n",
    "my_food_item_list[2] = \"malt\"\n",
    "print(my_food_item_list)\n",
    "# list loop\n",
    "for i in range(len(my_food_item_list)):\n",
    "    # print(i)\n",
    "    print(my_food_item_list[i])\n",
    "# list loop shortcut\n",
    "for item in my_food_item_list:\n",
    "    print(item)\n",
    "# list problem\n",
    "# finding the max-number in [5,7,12,9,-5,10]\n",
    "number_list = [5,7,12,9,-5,10]\n",
    "maxNumber = number_list[0]\n",
    "for number in number_list:\n",
    "    if number > maxNumber:\n",
    "        maxNumber = number\n",
    "print(maxNumber)\n",
    "# question 2\n",
    "number_array = [3,6,1,0]\n",
    "max_Number = number_list[0]\n",
    "max_Number_index = 0\n",
    "counter = 0\n",
    "for i in range(len(number_array)):\n",
    "    if number_array[i] > max_Number:\n",
    "        max_Number = number_list[i]\n",
    "        max_Number_index = i\n",
    "for number in number_array:\n",
    "    if max_Number == number:\n",
    "        continue\n",
    "    if max_Number >= 2 * number :\n",
    "        counter += 1\n",
    "if counter == len(number_array)-1:\n",
    "# print(max_Number) \n",
    "    print(max_Number_index)\n",
    "else:\n",
    "    print(-1)"
   ]
  },
  {
   "cell_type": "code",
   "execution_count": 29,
   "metadata": {},
   "outputs": [
    {
     "name": "stdout",
     "output_type": "stream",
     "text": [
      "{'alway': 'to be alway.', 'money': 'have money.', 'God': 'serve God always', 'Game': 'I love games', 2: 2}\n",
      "alway\n",
      "money\n",
      "God\n",
      "Game\n",
      "2\n",
      "to be alway.\n",
      "have money.\n",
      "serve God always\n",
      "I love games\n",
      "2\n",
      "alway to be alway.\n",
      "money have money.\n",
      "God serve God always\n",
      "Game I love games\n",
      "2 2\n",
      "2 3\n",
      "3 2\n",
      "5 2\n",
      "1 1\n",
      "0 1\n"
     ]
    }
   ],
   "source": [
    "# Dictionary\n",
    "our_Dictionary ={\n",
    "    \"alway\":\"to be alway.\",\n",
    "    \"money\": \"have money.\",\n",
    "    \"God\" : \"serve God always\",\n",
    "    \"Game\": \"I love games\"\n",
    "}\n",
    "our_Dictionary[2] = 2\n",
    "print(our_Dictionary)\n",
    "# Looping in dictionary\n",
    "# to access keys\n",
    "for key in our_Dictionary:\n",
    "    print(key)\n",
    "# to access values\n",
    "for value in our_Dictionary.values():\n",
    "    print(value)\n",
    "# to accessvalues and keys using method II\n",
    "for key,value in our_Dictionary.items():\n",
    "    print(key,value)\n",
    "# Dictionary solution\n",
    "list = [2,2,3,5,2,3,1,0,5]\n",
    "dic = {}\n",
    "for x in list:\n",
    "    if x in dic:\n",
    "        count = dic[x]\n",
    "    else:\n",
    "        count = 0\n",
    "    dic[x] = count + 1\n",
    "for key,value in dic.items():\n",
    "    print(key,value)  "
   ]
  },
  {
   "cell_type": "code",
   "execution_count": 26,
   "metadata": {},
   "outputs": [
    {
     "name": "stdout",
     "output_type": "stream",
     "text": [
      "{'jesse': 70, 'Doug': 100}\n"
     ]
    }
   ],
   "source": [
    "# set\n"
   ]
  },
  {
   "cell_type": "code",
   "execution_count": 67,
   "metadata": {},
   "outputs": [
    {
     "name": "stdout",
     "output_type": "stream",
     "text": [
      "[2, 6, 55, 333]\n",
      "100\n",
      "{'jesse': 100, 'Doug': 100, 'Anam': 80, 'James': [50, 30, 400, 'game']}\n",
      "100\n",
      "80\n",
      "{'Doug': 100}\n",
      "3\n",
      "{1, 2, 3, 4, 6, 7, 8, 9}\n",
      "{1, 2, 3, 4, 6, 7, 8, 9}\n",
      "{8, 9, 6, 7}\n",
      "{11, 12, 15}\n",
      "{8, 9, 6, 7}\n"
     ]
    }
   ],
   "source": [
    "# delete\n",
    "# temporary\n",
    "# from operator import delitem\n",
    "\n",
    "\n",
    "num = [1,2,3,4,6,55,333]\n",
    "num.pop(3)\n",
    "num.__delitem__(0)\n",
    "num.remove(3)\n",
    "print(num)\n",
    "# dictionary\n",
    "student = {\"jesse\":70,\"Doug\":100,\"Anam\":80}\n",
    "student[\"jesse\"] = 100\n",
    "score = student[\"jesse\"]\n",
    "student[\"James\"] = [50,30,400,\"game\"]\n",
    "\n",
    "print(score)\n",
    "print(student)\n",
    "# Assigment2 using Dictionary\n",
    "student1 = {\"jesse\":70,\"Doug\":100,\"Anam\":{\"CH\":100,\"PH\":80}}\n",
    "subject = student1[\"Anam\"]\n",
    "score1 = subject[\"CH\"]\n",
    "print(score1)\n",
    "student2 = {\"jesse\":70,\"Doug\":100,\"Anam\":80}\n",
    "res = student2.pop(\"Anam\")\n",
    "print(res)\n",
    "del student2 [\"jesse\"]\n",
    "print(student2)\n",
    "tup = (1,2,3,5)\n",
    "fin = tup[2]\n",
    "print(fin)\n",
    "# set\n",
    "Loo = {1,2,3,3,4}\n",
    "soo = {6,7,8,9}\n",
    "hoo = {6,7,8,9,11,12,15}\n",
    "doo = Loo.union(soo)\n",
    "foo = Loo | soo\n",
    "voo = soo.intersection(hoo)\n",
    "roo = soo.symmetric_difference(hoo)\n",
    "# intersection\n",
    "goo  = soo & hoo\n",
    "print(foo)\n",
    "print(doo)\n",
    "print(voo)\n",
    "print(roo)\n",
    "print(goo)\n",
    "\n"
   ]
  },
  {
   "cell_type": "code",
   "execution_count": 21,
   "metadata": {},
   "outputs": [
    {
     "name": "stdout",
     "output_type": "stream",
     "text": [
      "THE NUMBER IS GREATER THAN 10\n",
      "the program stars here\n",
      "you chose D\n",
      "The number is a multiple of 2 and 3\n"
     ]
    }
   ],
   "source": [
    "# conditinal statement\n",
    "# if...Else\n",
    "value = input(\"Enter a number\")\n",
    "value = int(value)\n",
    "if(value > 10):\n",
    "    print(\"THE NUMBER IS GREATER THAN 10\")\n",
    "else:\n",
    "    print(\"THE NUMBER IS NOT GREATER THAN 10\")\n",
    "print(\"the program stars here\")\n",
    "# if...elif...Else\n",
    "answer = input(\"Enter the correct option from A to D\")\n",
    "if answer == \"A\":\n",
    "    print(\"you chose A\")\n",
    "elif answer == \"B\":\n",
    "    print(\"you chose B\")\n",
    "elif answer == \"C\":\n",
    "    print(\"you chose C\")\n",
    "elif answer == \"D\":\n",
    "    print(\"you chose D\")\n",
    "else:\n",
    "    print(\"Please folllow the instruction\")\n",
    "\n",
    "# type of if..elif statement\n",
    "#(1) Exclusive if elif\n",
    "#(2) Inclusive if elif\n",
    "#  using Exclusive if elif statement\n",
    "number = input(\"please enter your number:\")\n",
    "number = int(number)\n",
    "if number % 2 == 0:\n",
    "    print(\"The number is a multiple of 2\")\n",
    "elif number % 6 == 0:\n",
    "    print(\"The number is a multiple of 2 and 3\")\n",
    "elif number % 3 == 0:\n",
    "    print(\"The number is a multiple of 3\")\n",
    "else:\n",
    "    print(\"The number is neither a multiple of 2 nor 3\")\n"
   ]
  },
  {
   "cell_type": "code",
   "execution_count": 34,
   "metadata": {},
   "outputs": [
    {
     "name": "stdout",
     "output_type": "stream",
     "text": [
      "1\n",
      "3\n",
      "5\n",
      "7\n",
      "The loop has ended\n",
      "7\n",
      "8\n",
      "9\n",
      "The loop has ended\n",
      "0\n",
      "1\n",
      "2\n",
      "3\n",
      "4\n",
      "The loop has ended\n",
      "0\n",
      "1\n",
      "2\n",
      "3\n",
      "4\n",
      "6\n",
      "7\n",
      "8\n",
      "9\n",
      "The loop has ended\n"
     ]
    }
   ],
   "source": [
    "# control Loop\n",
    "# For loop\n",
    "# (start ,end,increment)\n",
    "# method 1\n",
    "for i in range(1,8,2):\n",
    "    print(i)\n",
    "print(\"The loop has ended\")\n",
    "# method 2\n",
    "for i in range(7,10):\n",
    "    print(i)\n",
    "print(\"The loop has ended\")\n",
    "# Break in For loop\n",
    "# using Break\n",
    "for i in range(10):\n",
    "    if i == 5:\n",
    "        break \n",
    "    print(i)\n",
    "print(\"The loop has ended\")\n",
    "# using continue\n",
    "for i in range(10):\n",
    "    if i == 5:\n",
    "        continue\n",
    "    print(i)\n",
    "print(\"The loop has ended\")\n",
    "# While Loop\n",
    "# (condition,block)\n",
    "counter = 5\n",
    "while counter > 0:\n",
    "    print(counter)\n",
    "    counter += 1\n",
    "print(\"The loop has ended\")\n",
    "\n",
    "\n",
    "\n",
    "\n",
    "\n",
    "\n",
    "\n"
   ]
  },
  {
   "cell_type": "code",
   "execution_count": 4,
   "metadata": {},
   "outputs": [
    {
     "name": "stdout",
     "output_type": "stream",
     "text": [
      "8\n",
      "4.0\n",
      "2.0\n",
      "The Loop has ended\n",
      "8\n",
      "7\n",
      "6\n",
      "5\n",
      "3\n",
      "2\n",
      "1\n",
      "The Loop has ended\n"
     ]
    }
   ],
   "source": [
    "# While Loop\n",
    "counter = 8\n",
    "while counter % 2 == 0:\n",
    "    print(counter)\n",
    "    counter /=2\n",
    "print(\"The Loop has ended\")\n",
    "# using Break in While Loop\n",
    "counter = 8\n",
    "while counter > 0:\n",
    "    if counter == 4:\n",
    "        counter -= 1\n",
    "        break\n",
    "    print(counter)\n",
    "    counter -=1\n",
    "print(\"The Loop has ended\")\n",
    "\n",
    "\n"
   ]
  },
  {
   "cell_type": "code",
   "execution_count": null,
   "metadata": {},
   "outputs": [
    {
     "name": "stdout",
     "output_type": "stream",
     "text": [
      "Your guess is greater than the random number\n",
      "Your guess is less than the random number\n"
     ]
    },
    {
     "ename": "",
     "evalue": "",
     "output_type": "error",
     "traceback": [
      "\u001b[1;31mCanceled future for execute_request message before replies were done"
     ]
    },
    {
     "ename": "",
     "evalue": "",
     "output_type": "error",
     "traceback": [
      "\u001b[1;31mThe Kernel crashed while executing code in the the current cell or a previous cell. Please review the code in the cell(s) to identify a possible cause of the failure. Click <a href='https://aka.ms/vscodeJupyterKernelCrash'>here</a> for more info. View Jupyter <a href='command:jupyter.viewOutput'>log</a> for further details."
     ]
    }
   ],
   "source": [
    "# Guess Number Game\n",
    "import random \n",
    "random_number = random.randint(0,20)\n",
    "guess_number = input (\"Enter your guess number:\")\n",
    "guess_number = int(guess_number)\n",
    "while random_number != guess_number:\n",
    "    if random_number > guess_number:\n",
    "        print(\"Your guess is less than the random number\")\n",
    "    else:\n",
    "        print(\"Your guess is greater than the random number\")\n",
    "    guess_number = input(\"Enter your guess number:\")\n",
    "    guess_number = int(guess_number)\n",
    "print(\"You guessed right\")"
   ]
  },
  {
   "cell_type": "code",
   "execution_count": 1,
   "metadata": {},
   "outputs": [
    {
     "name": "stdout",
     "output_type": "stream",
     "text": [
      "The score is F\n"
     ]
    }
   ],
   "source": [
    "# if..elif..Else\n",
    "# To get student grade\n",
    "# score >= 70 and score <= 100  print (A)\n",
    "# score >= 60 and score <= 69  print (B)\n",
    "# score >= 50 and score <= 59  print (C)\n",
    "# score >= 45 and score <= 49  print (D)\n",
    "# score >= 40 and score <= 44  print (E)\n",
    "# score >= 0 and score <= 39  print (F)\n",
    "\n",
    "score = input(\"Enter the score from 0 to 100:\")\n",
    "score = int(score)\n",
    "if score >= 70 and score <= 100:\n",
    "    print (\"The score is A\")\n",
    "elif score >=60 and score <=69:\n",
    "    print (\"The score is B\")\n",
    "elif score >=50 and score <=59:\n",
    "    print (\"The score is C\")\n",
    "elif score >=45 and score <= 40:\n",
    "    print (\"The score is D\")\n",
    "elif score >=40 and score <=44:\n",
    "    print (\"The score is E\")\n",
    "elif score >=0 and score <=39:\n",
    "    print (\"The score is F\")\n",
    "else:\n",
    "    print(\"The input is not valid\")"
   ]
  },
  {
   "cell_type": "code",
   "execution_count": 19,
   "metadata": {},
   "outputs": [
    {
     "name": "stdout",
     "output_type": "stream",
     "text": [
      "{True, 34.9, 45, 'Burger'}\n",
      "{True, 34.9, 45, 'Burger'}\n",
      "{True, 34.9, 45, 'Burger'}\n",
      "{True, 34.9, 45, 'Burger'}\n",
      "True\n",
      "45 can be found in {True, 34.9, 45, 'Burger'}\n",
      "{1, 2, 4, 'eggs', 'milk'}\n",
      "{1, 2, 'eggs', 'milk'}\n",
      "{1, 2, 'milk'}\n",
      "{2, 'milk'} 1\n",
      "0\n"
     ]
    }
   ],
   "source": [
    "# set\n",
    "# to get items in a set\n",
    "a_set = {45,True,\"Burger\",34.90}\n",
    "for item in a_set:\n",
    "    print(a_set)\n",
    "print(\"Burger\" in a_set)\n",
    "if 45 in a_set:\n",
    "    print(45,\"can be found in\", a_set)\n",
    "else:\n",
    "    print(45,\"cannot be found in\", a_set)\n",
    "# Adding items to a set\n",
    "s_set = {1,2,\"eggs\",4}\n",
    "s_set.add(\"milk\")\n",
    "print(s_set)\n",
    "# Removing items from A set\n",
    "s_set.discard(4)\n",
    "print(s_set)\n",
    "s_set.remove(\"eggs\")\n",
    "print(s_set)\n",
    "item = s_set.pop()\n",
    "print(s_set,item)\n",
    "s_set.clear()\n",
    "print(len(s_set))\n"
   ]
  },
  {
   "cell_type": "code",
   "execution_count": 20,
   "metadata": {},
   "outputs": [
    {
     "name": "stdout",
     "output_type": "stream",
     "text": [
      "the item with the highest value in {50, 20, 5, 70, 46} is 70\n"
     ]
    }
   ],
   "source": [
    "# set Exercise\n",
    "a_set = {5,20,70,46,50}\n",
    "highest_item = 0\n",
    "for item in a_set:\n",
    "    if item > highest_item:\n",
    "        highest_item = item\n",
    "print(\"the item with the highest value in\",a_set,\"is\",highest_item)\n"
   ]
  },
  {
   "cell_type": "code",
   "execution_count": 5,
   "metadata": {},
   "outputs": [
    {
     "name": "stdout",
     "output_type": "stream",
     "text": [
      "Hello MR John Doe\n",
      "10\n"
     ]
    }
   ],
   "source": [
    "# functions\n",
    "# from threading import local\n",
    "\n",
    "\n",
    "def greet(name,gender):\n",
    "    if(gender == \"male\"):\n",
    "        title = \"MR\"\n",
    "    else:\n",
    "        title = \"MS\"\n",
    "    greeting = \"Hello \"  +  title +\" \" + name\n",
    "    return greeting\n",
    "# user_name = input(\"What is your name?\")\n",
    "    # print(\"Hello\",name)\n",
    "user_name = \"John Doe\"\n",
    "user_gender = \"male\"\n",
    "greeting_message = greet(name =user_name, gender =user_gender)\n",
    "print(greeting_message)\n",
    "#Varaiable scope\n",
    "# Global scope\n",
    "var = 10\n",
    "print(var)\n",
    "# var = 20\n",
    "def change_var():\n",
    "    global var\n",
    "    var = 20\n",
    "    print(var)\n",
    "# local scope\n",
    "def change_var():\n",
    "    var = 90\n",
    "    print(var)\n",
    "\n",
    "\n",
    "\n",
    "\n",
    "\n"
   ]
  },
  {
   "cell_type": "code",
   "execution_count": 1,
   "metadata": {},
   "outputs": [
    {
     "name": "stdout",
     "output_type": "stream",
     "text": [
      " leunammE\n"
     ]
    }
   ],
   "source": [
    "# while loop example\n",
    "word = \"Emmanuel\"\n",
    "reversed = \" \"\n",
    "# retrive using index position\n",
    "index = len(word)-1\n",
    "while index >=0:\n",
    "    retrieved_letter =word[index]\n",
    "    reversed += retrieved_letter\n",
    "    index = index - 1\n",
    "print(reversed)\n"
   ]
  },
  {
   "cell_type": "code",
   "execution_count": 2,
   "metadata": {},
   "outputs": [
    {
     "name": "stdout",
     "output_type": "stream",
     "text": [
      "{'p': 3, 'i': 1, 'n': 1, 'e': 2, 'a': 1, 'l': 1}\n"
     ]
    }
   ],
   "source": [
    "# using For Loop to access the string in a dictionary form\n",
    "fruit = \"pineapple\"\n",
    "count = {}\n",
    "for x in fruit :\n",
    "    if x not in count:\n",
    "        count[x]=1\n",
    "    else:\n",
    "        count[x]+=1\n",
    "print(count)\n"
   ]
  },
  {
   "cell_type": "code",
   "execution_count": 10,
   "metadata": {},
   "outputs": [
    {
     "name": "stdout",
     "output_type": "stream",
     "text": [
      "Beverage is available\n",
      "Utensils is available\n",
      "Toiletries is available\n",
      "we have {'Sugar': 100, 'Milk': 50}  available\n",
      "Milk cost 50\n",
      "not available\n"
     ]
    }
   ],
   "source": [
    "# using For Loop to access the string in a dictionary form Complex form\n",
    "store = {\"Beverage\":{\"Sugar\":100,\"Milk\":50},\"Utensils\":{\"Kettle\":100,\"Pot\":400},\"Toiletries\":{\"Tissue\":100,\"Detergent\":150}}\n",
    "for x in store.keys():\n",
    "    print(f\"{x} is available\")\n",
    "customer = int(input(\"please choose:1 for Beverage,2 for Utensil,3 for Toiletries\"))\n",
    "if customer == 1:\n",
    "    for key,value in store.items():\n",
    "        if key == \"Beverage\":\n",
    "            print(f\"we have {value}  available\")\n",
    "            item = input(\" please select item\")\n",
    "            for a,b in value.items():\n",
    "                if a == item:\n",
    "                    print(f\"{item} cost {b}\")\n",
    "            print(\"not available\")\n",
    "elif customer == 2:\n",
    "    for key,value in store.items():\n",
    "        if key == \"Utensils\":\n",
    "            print(f\"we have{value} is available\")\n",
    "            item = input(\" please select item\")\n",
    "            for a,b in value.items():\n",
    "                if a == item:\n",
    "                    print(f\"{item} cost {b}\")\n",
    "            print(\"not available\")\n",
    "elif customer == 3:\n",
    "    for key,value in store.items():\n",
    "        if key == \"Toiletries\":\n",
    "            print(f\"we have{value} is available\")\n",
    "            item = input(\" please select item\")\n",
    "            for a,b in value.items():\n",
    "                if a == item:\n",
    "                    print(f\"{item} cost {b}\")\n",
    "            print(\"not available\")\n",
    "else:\n",
    "    print(\"wrong selection\")\n",
    "            \n",
    "\n",
    "                "
   ]
  },
  {
   "cell_type": "code",
   "execution_count": 36,
   "metadata": {},
   "outputs": [
    {
     "name": "stdout",
     "output_type": "stream",
     "text": [
      "[2, 4]\n",
      "['odd', 2, 4, 'odd', 'odd']\n"
     ]
    }
   ],
   "source": [
    "# List comprehension\n",
    "numbers = [1,2,4,5,7]\n",
    "even = []\n",
    "for x in numbers:\n",
    "    if x % 2 == 0:\n",
    "        even.append(x)\n",
    "print(even)\n",
    "# using List comprehension\n",
    "even_num = [x if x % 2 == 0 else \"odd\" for x in numbers ]\n",
    "print(even_num)"
   ]
  },
  {
   "cell_type": "code",
   "execution_count": 48,
   "metadata": {},
   "outputs": [
    {
     "name": "stdout",
     "output_type": "stream",
     "text": [
      "[1, 3, 5, 7]\n",
      "[1, 4, 9, 16, 25, 49]\n"
     ]
    }
   ],
   "source": [
    "# List comprehension extracting odd number\n",
    "numbers = [1,2,3,4,5,7]\n",
    "odd = []\n",
    "for x in numbers:\n",
    "    if x % 2 != 0:\n",
    "        odd.append(x)\n",
    "print(odd)\n",
    "#square of each number\n",
    "square = [ x ** 2  for x in numbers]\n",
    "print(square)\n",
    "\n"
   ]
  },
  {
   "cell_type": "code",
   "execution_count": 63,
   "metadata": {},
   "outputs": [
    {
     "name": "stdout",
     "output_type": "stream",
     "text": [
      "1\n",
      "2\n",
      "[1, 2, 3]\n",
      "[('John', 70), ('Emma', 80)]\n"
     ]
    }
   ],
   "source": [
    "# packing\n",
    "x,y = [1,2]\n",
    "print(x)\n",
    "print(y)\n",
    "# unpacking\n",
    "*x,y = [1,2,3,4]\n",
    "print(x)\n",
    "# Ziping\n",
    "names = [\"John\", \"Emma\"]\n",
    "score = [70,80]\n",
    "val = list(zip(names,score))\n",
    "print(val)\n"
   ]
  },
  {
   "cell_type": "code",
   "execution_count": 7,
   "metadata": {},
   "outputs": [
    {
     "data": {
      "text/plain": [
       "2"
      ]
     },
     "execution_count": 7,
     "metadata": {},
     "output_type": "execute_result"
    }
   ],
   "source": [
    "# funcion for arithmetric operation\n",
    "def multipication(a,b):\n",
    "    multiplication = a * b\n",
    "    return multiplication\n",
    "multipication(2,2)\n",
    "def Division(a,b):\n",
    "    Division = a / b\n",
    "    return Division\n",
    "Division(2,2)\n",
    "def Substraction(a,b):\n",
    "    Substraction = a - b\n",
    "    return Substraction\n",
    "Substraction(2,2)\n",
    "def Square(a,b):\n",
    "    square = a**b\n",
    "    return square\n",
    "Square(2,2)"
   ]
  },
  {
   "cell_type": "code",
   "execution_count": 1,
   "metadata": {},
   "outputs": [
    {
     "data": {
      "text/plain": [
       "[{'John': 70, 'Sam': 100, 'Great': 50},\n",
       " {'John': 70, 'Sam': 100, 'Great': 50},\n",
       " {'John': 70, 'Sam': 100, 'Great': 50}]"
      ]
     },
     "execution_count": 1,
     "metadata": {},
     "output_type": "execute_result"
    }
   ],
   "source": [
    "# * arg\n",
    "\n",
    "[1,2,3,4]\n",
    "def mul_list (*a):\n",
    "    mul = 1\n",
    "    for x in a :\n",
    "        mul= mul * x\n",
    "    return mul\n",
    "mul_list(1,2,3,4)\n",
    "# ** kwargs\n",
    "\n",
    "def student(**a):\n",
    "    new = []\n",
    "    for x in a.keys():\n",
    "        new.append(a)\n",
    "    return new\n",
    "student(John=70,Sam=100,Great=50)\n"
   ]
  },
  {
   "cell_type": "code",
   "execution_count": null,
   "metadata": {},
   "outputs": [],
   "source": [
    "# dictionary comprehension"
   ]
  },
  {
   "cell_type": "code",
   "execution_count": 5,
   "metadata": {},
   "outputs": [
    {
     "data": {
      "text/plain": [
       "20000.0"
      ]
     },
     "execution_count": 5,
     "metadata": {},
     "output_type": "execute_result"
    }
   ],
   "source": [
    "# Assignment 24-August-22\n",
    "def sumation(* a):\n",
    "    sum = 0\n",
    "    for x in a:\n",
    "        sum = sum + x\n",
    "    return sum\n",
    "sumation(1,2,3,4)\n",
    "\n",
    "def Substraction(*a):\n",
    "    sub = 1\n",
    "    for x in a:\n",
    "        sub= sub - x\n",
    "    return sub\n",
    "Substraction(1,2,3,4)\n",
    "# Simple Interest \n",
    "def SI (P,T,R,C=100):\n",
    "    res = (P*T*R)/C\n",
    "    return res\n",
    "SI(1000,40,50)"
   ]
  },
  {
   "cell_type": "code",
   "execution_count": 11,
   "metadata": {},
   "outputs": [
    {
     "name": "stdout",
     "output_type": "stream",
     "text": [
      "[1, 2, 3, 4, 5]\n"
     ]
    }
   ],
   "source": [
    "def mul (P,T,R):\n",
    "    res = P*T*R\n",
    "    return res\n",
    "def simple_interest(x):\n",
    "    ans = x/100\n",
    "    return ans\n",
    "simple_interest(mul(100,50,7))\n",
    "def add(a,b):\n",
    "    sum = a+ b\n",
    "    return sum\n",
    "\n",
    "L=[1,2,3,4,add(3,2)]\n",
    "print(L)"
   ]
  },
  {
   "cell_type": "code",
   "execution_count": 3,
   "metadata": {},
   "outputs": [
    {
     "data": {
      "text/plain": [
       "3628800"
      ]
     },
     "execution_count": 3,
     "metadata": {},
     "output_type": "execute_result"
    }
   ],
   "source": [
    "# Lamba Function\n",
    "# syntax\n",
    "# lamda a,b :a + b\n",
    "v = lambda a,b : a + b\n",
    "v(5,7)\n",
    "# Recurrsive Function\n",
    "def factorial (n):\n",
    "    if n == 0:\n",
    "        return 1\n",
    "    else:\n",
    "        return n*factorial(n-1)\n",
    "factorial(5)\n",
    "def assignment (n):\n",
    "    if n == 0:\n",
    "        return 1\n",
    "    else:\n",
    "        return n*assignment(n-1)\n",
    "assignment(10)\n"
   ]
  },
  {
   "cell_type": "code",
   "execution_count": 13,
   "metadata": {},
   "outputs": [
    {
     "data": {
      "text/plain": [
       "10"
      ]
     },
     "execution_count": 13,
     "metadata": {},
     "output_type": "execute_result"
    }
   ],
   "source": [
    "# to sum a number in a list\n",
    "# num = [1,2,3,4]\n",
    "# sum = 0\n",
    "# for x in num:\n",
    "#     sum = sum + x\n",
    "# print(sum)\n",
    "n = [1,2,3,4]\n",
    "def sumation(n):\n",
    "    if len(n)==0:\n",
    "        return 0\n",
    "    else:\n",
    "        val = n.pop() \n",
    "        return val + sumation(n)\n",
    "sumation(n)\n",
    "    \n",
    "        \n",
    "\n"
   ]
  },
  {
   "cell_type": "code",
   "execution_count": 17,
   "metadata": {},
   "outputs": [
    {
     "name": "stdout",
     "output_type": "stream",
     "text": [
      "you can convert any unit in weight(kg,g),volume(litre,mililitre,centilitre),length(ft,inches,cm,m,mm),distance(km,m),Time(mins,sec,hr)\n",
      "Put in the unit of measurement shown Above\n"
     ]
    }
   ],
   "source": [
    "# Unit converter\n",
    "def Converter():\n",
    "    print(\"you can convert any unit in weight(kg,g),volume(litre,mililitre,centilitre),length(ft,inches,cm,m,mm),distance(km,m),Time(mins,sec,hr)\")\n",
    "    num1 =  int(input(\"Enter the value:you can convert any unit in weight(kg,g),volume(litre,mililitre,centilitre),length(ft,inches,cm,m,mm),distance(km,m),Time(mins,sec,hr)\"))\n",
    "    unit1 = input(\"Which unit do you want it to converted from:\")\n",
    "    unit2 = input(\"Which unit do you want it  converted to:\")\n",
    "    if unit1=='cm'and unit2 == 'm':\n",
    "        ans=float(num1)/100\n",
    "        print(f\"{ans}m\")\n",
    "    elif unit1 =='mm' and unit2 == 'cm':\n",
    "        ans = float(num1)/10\n",
    "        print(f\"{ans}cm\")\n",
    "    elif unit1 == 'm' and unit2== 'cm':\n",
    "        ans = float(num1)*100\n",
    "        print(f\"{ans}cm\")\n",
    "    elif unit1 == 'cm' and unit2 == 'mm':\n",
    "        ans = float(num1)*10\n",
    "        print(f\"{ans}mm\")\n",
    "    elif unit1 == 'mm' and unit2 == 'm':\n",
    "        ans= float(num1)/1000\n",
    "        print(f\"{ans}m\")\n",
    "    elif unit1 == 'km' and unit2 == 'm':\n",
    "        ans = float(num1)* 1000\n",
    "        print(f\"{ans}m\")\n",
    "    elif unit1 =='m' and unit2 == 'km':\n",
    "        ans = float(num1)/1000\n",
    "        print(f\"{ans}km\")\n",
    "    elif unit1 == 'ft' and unit2 == 'inches':\n",
    "        ans = float(num1)*12\n",
    "        print(f\"{ans}inches\")\n",
    "    elif unit1 == 'inches' and unit2 == 'ft':\n",
    "        ans = float(num1)/12\n",
    "        print(f\"{ans}ft\")\n",
    "    elif unit1 == 'kg' and unit2 == 'g':\n",
    "        ans=float(num1)*100\n",
    "        print(f\"{ans}g\")\n",
    "    elif unit1 =='g' and unit2=='kg':\n",
    "        ans=float(num1)/1000\n",
    "        print(f\"{ans}kg\")\n",
    "    elif unit1=='hr' and unit2 == 'mins':\n",
    "        ans = (num1)*60\n",
    "        print(f\"{ans}mins\")\n",
    "    elif unit1=='mins' and unit2 == 'hr':\n",
    "        ans = (num1)*60\n",
    "        print(f\"{ans}hr\")\n",
    "    elif unit1=='hr'and unit2 == 'sec':\n",
    "        ans=(num1)*3600\n",
    "        print(f\"{ans}sec\")\n",
    "    elif unit1=='mins' and unit2 == 'sec':\n",
    "        ans=(num1)*60\n",
    "        print(f\"{ans}sec\")\n",
    "    elif unit1 =='litre' and unit2=='centilitre':\n",
    "        ans=float(num1)*100\n",
    "        print(f\"{ans}cl\")\n",
    "    elif unit1=='centilitre' and unit2=='litre':\n",
    "        ans=float(num1)/100\n",
    "        print(f\"{ans}L\")\n",
    "    elif unit1=='mililitre'and unit2=='litre':\n",
    "        ans = float(num1)/1000\n",
    "        print(f\"{ans}L\")\n",
    "    elif unit1 =='litre'and unit2 =='mililitre':\n",
    "        ans = float(num1)*1000\n",
    "        print(f\"{ans}ml\")\n",
    "    else:\n",
    "        print(\"Put in the unit of measurement shown Above\")\n",
    "Converter()"
   ]
  },
  {
   "cell_type": "code",
   "execution_count": 1,
   "metadata": {},
   "outputs": [
    {
     "name": "stdout",
     "output_type": "stream",
     "text": [
      "invalid input please input a whole number value\n",
      "please enter a number\n"
     ]
    }
   ],
   "source": [
    "# Error Handling\n",
    "try:\n",
    "    request = int(input(\"Enter a number\"))\n",
    "    res = request/2\n",
    "except (ValueError,TypeError):\n",
    "    print(\"invalid input please input a whole number value\")\n",
    "else:\n",
    "    print(res)\n",
    "# Using function \n",
    "# def Error():\n",
    "#     try:\n",
    "#         request= int(input(\"Enter a number\"))\n",
    "#         res = request/0\n",
    "#     except(ValueError,TypeError):\n",
    "#         print(\"invalid input please input a whole number value\")\n",
    "#     else:\n",
    "#         print(res)\n",
    "# Error()\n",
    "def ask():\n",
    "    Enter = int(input(\"please enter an input\"))\n",
    "    return Enter\n",
    "try:\n",
    "    ask()\n",
    "except ValueError:\n",
    "    print(\"please enter a number\")\n",
    "except ZeroDivisionError:\n",
    "    print(\"cant divide by Zero\")"
   ]
  },
  {
   "cell_type": "code",
   "execution_count": 14,
   "metadata": {},
   "outputs": [
    {
     "name": "stdout",
     "output_type": "stream",
     "text": [
      "cant divide by zero\n"
     ]
    }
   ],
   "source": [
    "# Error Handling Assignment\n",
    "def Calculation():\n",
    "    my_value = int(input(\"enter a number\"))\n",
    "    val = my_value/0\n",
    "    return val\n",
    "try:\n",
    " Calculation()\n",
    "except(ValueError,TypeError):\n",
    "    print(\"Enter a number\")\n",
    "except ZeroDivisionError:\n",
    "    print(\"cant divide by zero\")\n",
    "else:\n",
    "    print(\"you got it correct\")\n",
    "\n",
    "\n"
   ]
  },
  {
   "cell_type": "code",
   "execution_count": 27,
   "metadata": {},
   "outputs": [
    {
     "name": "stdout",
     "output_type": "stream",
     "text": [
      "He is a Boy\n",
      "She is a Girl\n",
      "\n"
     ]
    }
   ],
   "source": [
    "# File Handling\n",
    "# Reading a file\n",
    "file = open(\"file.txt\",\"rt\")\n",
    "print(file.read())\n",
    "# Readline()\n",
    "print(file.readline())\n",
    "# looping through  each line in a file\n",
    "for x in file:\n",
    "    print(x)\n",
    "\n",
    "\n",
    "\n"
   ]
  },
  {
   "cell_type": "code",
   "execution_count": 40,
   "metadata": {},
   "outputs": [
    {
     "data": {
      "text/plain": [
       "19"
      ]
     },
     "execution_count": 40,
     "metadata": {},
     "output_type": "execute_result"
    }
   ],
   "source": [
    "# Write operation\n",
    "# creating a file that doesnt exist\n",
    "Data_file = open (\"data.txt\",\"w\")\n",
    "Data_file.write(\"They are all Adults\")\n",
    "# using Append\n",
    "data_content = open (\"file.txt\",\"a\")\n",
    "data_content.write(\"\\n Where are Your Parents\")\n",
    "\n",
    "\n"
   ]
  },
  {
   "cell_type": "code",
   "execution_count": 43,
   "metadata": {},
   "outputs": [
    {
     "data": {
      "text/plain": [
       "13"
      ]
     },
     "execution_count": 43,
     "metadata": {},
     "output_type": "execute_result"
    }
   ],
   "source": [
    "# creating a new file\n",
    "a_file = open(\"fold.txt\",\"x\")\n",
    "a_file.write(\"\\n We are cool\")"
   ]
  },
  {
   "cell_type": "code",
   "execution_count": 51,
   "metadata": {},
   "outputs": [
    {
     "name": "stdout",
     "output_type": "stream",
     "text": [
      "File does not exist\n"
     ]
    }
   ],
   "source": [
    "# Deleting a file\n",
    "import os\n",
    "if os.path.exists(\"mold.txt\"):\n",
    "    os.remove(\"mold.txt\")\n",
    "else:\n",
    "    print(\"File does not exist\")"
   ]
  },
  {
   "cell_type": "code",
   "execution_count": 6,
   "metadata": {},
   "outputs": [
    {
     "name": "stdout",
     "output_type": "stream",
     "text": [
      "['He is a Boy', 'She is a Girl', 'Where are Your Parents']\n"
     ]
    }
   ],
   "source": [
    "# Extra in File Handling\n",
    "file = open('./file.txt',\"r\")\n",
    "extra = file.readlines()\n",
    "len = []\n",
    "new_file = file.readlines()\n",
    "for x in extra:\n",
    "    new = x.replace(\"\\n\",\"\")\n",
    "    len.append(new)\n",
    "print(len)\n",
    "file.close()"
   ]
  },
  {
   "cell_type": "code",
   "execution_count": 4,
   "metadata": {},
   "outputs": [
    {
     "data": {
      "text/plain": [
       "11"
      ]
     },
     "execution_count": 4,
     "metadata": {},
     "output_type": "execute_result"
    }
   ],
   "source": [
    "# OBJECT ORIENETED PROGRAMMING\n",
    "class Add:\n",
    "    def __init__(self,a,b):\n",
    "        self.a = a\n",
    "        self.b = b\n",
    "    # To pass an instance instead of adding() to the end of the function the calls the action\n",
    "    # @property\n",
    "    def add(self):\n",
    "        self.total = self.a + self.b\n",
    "        return self.total\n",
    "val = Add(5,6)\n",
    "val.add()\n",
    "# val.add"
   ]
  },
  {
   "cell_type": "code",
   "execution_count": 5,
   "metadata": {},
   "outputs": [
    {
     "name": "stdout",
     "output_type": "stream",
     "text": [
      "7\n",
      " LEUNAMME\n"
     ]
    }
   ],
   "source": [
    "# OBJECT ORIENETED PROGRAMMING\n",
    "# checking if a word is a pallindrome\n",
    "class pallin:\n",
    "    reversed = \" \"\n",
    "    def __init__(self,word):\n",
    "        self.word = word\n",
    "    def index(self):\n",
    "        self.length = len(self.word)\n",
    "        self.idx=self.length - 1\n",
    "        print(self.idx)\n",
    "    def rev(self):\n",
    "        while self.idx >=0:\n",
    "            self.retrived = self.word[self.idx]\n",
    "            self.reversed += self.retrived\n",
    "            self.idx = self.idx -1\n",
    "        print(self.reversed)\n",
    "val = pallin(\"EMMANUEL\")\n",
    "val.index()\n",
    "val.rev()\n",
    "\n"
   ]
  }
 ],
 "metadata": {
  "kernelspec": {
   "display_name": "Python 3.10.4 64-bit",
   "language": "python",
   "name": "python3"
  },
  "language_info": {
   "codemirror_mode": {
    "name": "ipython",
    "version": 3
   },
   "file_extension": ".py",
   "mimetype": "text/x-python",
   "name": "python",
   "nbconvert_exporter": "python",
   "pygments_lexer": "ipython3",
   "version": "3.10.4"
  },
  "orig_nbformat": 4,
  "vscode": {
   "interpreter": {
    "hash": "31d86718aa02c16607ffb36e0cdbfec7bd6574c5eafc23aec75a4bc0a8ef6b38"
   }
  }
 },
 "nbformat": 4,
 "nbformat_minor": 2
}
