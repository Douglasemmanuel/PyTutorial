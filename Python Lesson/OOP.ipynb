{
 "cells": [
  {
   "cell_type": "code",
   "execution_count": 14,
   "metadata": {},
   "outputs": [
    {
     "data": {
      "text/plain": [
       "'My name is DOUGLAS EMMANUEL,I am 25 years old ,I am studying DJANGO,I had A in DJANGO'"
      ]
     },
     "execution_count": 14,
     "metadata": {},
     "output_type": "execute_result"
    }
   ],
   "source": [
    "# INHERITANCE\n",
    "class People:\n",
    "    def __init__(self,grade=None):\n",
    "        self.grade= grade\n",
    "    \n",
    "    def description(self):\n",
    "        return f\"The score is {self.grade}\"\n",
    "\n",
    "class Testscore(People):\n",
    "    def __init__(self,name,age,course,grade):\n",
    "        super().__init__(grade)\n",
    "        self.name = name\n",
    "        self.age = age\n",
    "        self.course = course\n",
    "    \n",
    "    def get_info(self):\n",
    "        return f\"My name is {self.name},I am {self.age} years old ,I am studying {self.course},I had {self.grade} in {self.course}\"\n",
    "\n",
    "myname = input(\"enter name\")\n",
    "myage = input(\"enter age\")\n",
    "mycourse = input(\"enter course\")\n",
    "mygrade = input (\"enter grade\")\n",
    "game = Testscore(myname,myage,mycourse,mygrade)\n",
    "game.get_info()\n",
    "\n"
   ]
  },
  {
   "cell_type": "code",
   "execution_count": 2,
   "metadata": {},
   "outputs": [
    {
     "data": {
      "text/plain": [
       "' these are the details Douglas, Web Dev, 25'"
      ]
     },
     "execution_count": 2,
     "metadata": {},
     "output_type": "execute_result"
    }
   ],
   "source": [
    "# INHERITANCE\n",
    "class Describe:\n",
    "    def __init__(self, age):\n",
    "        self.age = age\n",
    "\n",
    "    def get_age(self):\n",
    "        return f\" the person is {self.age} old\"\n",
    "\n",
    "class Person(Describe):\n",
    "    def __init__(self, name, role, age):\n",
    "        super().__init__(age)\n",
    "        self.name = name\n",
    "        self.role = role\n",
    "\n",
    "    def details(self):\n",
    "        return f\" these are the details {self.name}, {self.role}, {self.age}\"\n",
    "\n",
    "myname = input(\"enter name\")\n",
    "myrole = input(\"enter role\")\n",
    "myage = input(\"enter age\")\n",
    "val = Person(myname, myrole, myage)\n",
    "val.details()\n",
    "# val.get_age()\n",
    "\n"
   ]
  },
  {
   "cell_type": "code",
   "execution_count": 17,
   "metadata": {},
   "outputs": [
    {
     "data": {
      "text/plain": [
       "'Hello World'"
      ]
     },
     "execution_count": 17,
     "metadata": {},
     "output_type": "execute_result"
    }
   ],
   "source": [
    "# CLASS & OBJECT\n",
    "class calculation:\n",
    "    def __init__(self,add):\n",
    "        self.add = add\n",
    "    def get_sum(self):\n",
    "        total = self.add\n",
    "        return total\n",
    "val = calculation(\"Hello World\")\n",
    "val.get_sum()"
   ]
  },
  {
   "cell_type": "code",
   "execution_count": 27,
   "metadata": {},
   "outputs": [
    {
     "name": "stdout",
     "output_type": "stream",
     "text": [
      "Birds are ready\n",
      "Penguin is ready\n",
      "penguin\n",
      "Run faster\n"
     ]
    }
   ],
   "source": [
    "# INHERITANCE\n",
    "class Bird:\n",
    "    def __init__(self):\n",
    "        print(\"Birds are ready\")\n",
    "    \n",
    "    def whoisThis(self):\n",
    "        print(\"Bird\")\n",
    "\n",
    "    def swim(self):\n",
    "        print(\"swim faster\")\n",
    "\n",
    "class Penguin(Bird):\n",
    "    def __init__(self):\n",
    "        super().__init__()\n",
    "        print(\"Penguin is ready\")\n",
    "    \n",
    "    def whoisThis(self):\n",
    "        print(\"penguin\")\n",
    "\n",
    "    def run(self):\n",
    "        print(\"Run faster\")\n",
    "\n",
    "peggy = Penguin()\n",
    "peggy.whoisThis()\n",
    "peggy.swim\n",
    "peggy.run()"
   ]
  },
  {
   "cell_type": "code",
   "execution_count": 23,
   "metadata": {},
   "outputs": [
    {
     "name": "stdout",
     "output_type": "stream",
     "text": [
      "GeeksforGeeks\n"
     ]
    }
   ],
   "source": [
    "# ENCAPSULATION\n",
    "class Base:\n",
    "    def __init__(self):\n",
    "        self.a = \"GeeksforGeeks\"\n",
    "        self.__c = \"Geeksforgeeks\"\n",
    "class Derived(Base):\n",
    "    def __init__(self):\n",
    "        Base.__init__(self)\n",
    "        print(\"Calling private member of base class:\")\n",
    "        print(self.__c)\n",
    "\n",
    "obj1 = Base()\n",
    "print(obj1.a)"
   ]
  },
  {
   "cell_type": "code",
   "execution_count": 24,
   "metadata": {},
   "outputs": [
    {
     "name": "stdout",
     "output_type": "stream",
     "text": [
      "There are many types of birds.\n",
      "Most of the birds can fly but some cannot.\n",
      "There are many types of birds.\n",
      "Sparrows can fly.\n",
      "There are many types of birds.\n",
      "ostriches cannot fly.\n"
     ]
    }
   ],
   "source": [
    "# POLYMORPHISM\n",
    "class Birds:\n",
    "    def intro (self):\n",
    "        print(\"There are many types of birds.\")\n",
    "    def flight(self):\n",
    "        print(\"Most of the birds can fly but some cannot.\")\n",
    "    \n",
    "class sparrow(Birds):\n",
    "    def flight(self):\n",
    "        print(\"Sparrows can fly.\")\n",
    "\n",
    "class ostrich(Birds):\n",
    "    def flight(self):\n",
    "        print(\"ostriches cannot fly.\")\n",
    "obj_bird = Birds()\n",
    "obj_spr = sparrow()\n",
    "obj_ost = ostrich()\n",
    "\n",
    "obj_bird.intro()\n",
    "obj_bird.flight()\n",
    "\n",
    "obj_spr.intro()\n",
    "obj_spr.flight()\n",
    "\n",
    "obj_ost.intro()\n",
    "obj_ost.flight()\n"
   ]
  },
  {
   "cell_type": "code",
   "execution_count": 2,
   "metadata": {},
   "outputs": [
    {
     "data": {
      "text/plain": [
       "'the total name is DouglasEmmanuel'"
      ]
     },
     "execution_count": 2,
     "metadata": {},
     "output_type": "execute_result"
    }
   ],
   "source": [
    "# POLYMORPHISM\n",
    "class Students:\n",
    "    def __init__(self,name,age):\n",
    "        self.name = name\n",
    "        self.age = age\n",
    "    def add_age (self,other):      #other points to other instances of the class\n",
    "        self.age_total = self.age + other.age\n",
    "        return f\"the total age is {self.age_total}\"\n",
    "    def add_names(self,other):\n",
    "        self.name_total = self.name + other.name\n",
    "        return f\"the total name is {self.name_total}\"\n",
    "student1 = Students(\"Douglas\",18)\n",
    "student2 = Students(\"Emmanuel\",20)\n",
    "student1.add_age(student2)\n",
    "student1.add_names(student2)\n"
   ]
  },
  {
   "cell_type": "code",
   "execution_count": 7,
   "metadata": {},
   "outputs": [
    {
     "data": {
      "text/plain": [
       "\"The person's name is DOUGLAS EMMANUEL and he is 20 years old\""
      ]
     },
     "execution_count": 7,
     "metadata": {},
     "output_type": "execute_result"
    }
   ],
   "source": [
    "# COMPOSITION:GIVING THE PROPERTY OF AN OBJECT TO ANOTHER CLASS\n",
    "class name(object):\n",
    "    def __init__(self,first_name = None ,last_name = None):\n",
    "        self.first_name = first_name\n",
    "        self.last_name = last_name\n",
    "    def get_full_name(self):\n",
    "        self.full_name = self.first_name + self.last_name\n",
    "        return f\"The person's name is {self.full_name}\"\n",
    "\n",
    "class Person(object):\n",
    "    def __init__(self,age,first_name,last_name):\n",
    "        self.name = name(first_name,last_name) #creating an object in another object with the help of composition\n",
    "        self.age = age\n",
    "    def get_details(self):\n",
    "        return f\"{self.name.get_full_name()} and he is {self.age} years old\"\n",
    "person = Person(20,\"DOUGLAS\",\" EMMANUEL\")\n",
    "person.get_details()"
   ]
  },
  {
   "cell_type": "code",
   "execution_count": 2,
   "metadata": {},
   "outputs": [
    {
     "ename": "SyntaxError",
     "evalue": "invalid syntax (757629555.py, line 9)",
     "output_type": "error",
     "traceback": [
      "\u001b[1;36m  Input \u001b[1;32mIn [2]\u001b[1;36m\u001b[0m\n\u001b[1;33m    details = data[]\u001b[0m\n\u001b[1;37m                   ^\u001b[0m\n\u001b[1;31mSyntaxError\u001b[0m\u001b[1;31m:\u001b[0m invalid syntax\n"
     ]
    }
   ],
   "source": [
    "# Fetching Api\n",
    "import requests\n",
    "import json\n",
    "res = requests.get(\"\")\n",
    "# shorter way\n",
    "# data = json.loads(res.text)\n",
    "repost = res.text\n",
    "data = json.loads(repost)\n",
    "details = data[]\n",
    "print(details)"
   ]
  },
  {
   "cell_type": "code",
   "execution_count": 5,
   "metadata": {},
   "outputs": [],
   "source": [
    "# Linked List\n",
    "class LinkedDatastructure(object):\n",
    "    def __init__(self,data,pointer= None):\n",
    "        self.data = data\n",
    "        self.pointer = pointer\n",
    "    def newData(self,new_data):\n",
    "        self.new_data = new_data\n",
    "\n",
    "    def linkpointer(self,pointer):\n",
    "        self.pointer = pointer\n",
    "    def __str__(self):  #this is an attribute that helps output result\n",
    "        return f\"data:{self.data} => {self.pointer}\"\n",
    "    "
   ]
  },
  {
   "cell_type": "code",
   "execution_count": 6,
   "metadata": {},
   "outputs": [
    {
     "name": "stdout",
     "output_type": "stream",
     "text": [
      "data:Douglas => data:Emmanuel => None\n"
     ]
    }
   ],
   "source": [
    "node1 = LinkedDatastructure(\"Douglas\")\n",
    "node2 = LinkedDatastructure(\"Emmanuel\")\n",
    "node1.linkpointer(node2)\n",
    "print(node1)"
   ]
  },
  {
   "cell_type": "code",
   "execution_count": 3,
   "metadata": {},
   "outputs": [],
   "source": [
    "\n",
    "\n",
    "\n",
    "class Linkedthings(object):\n",
    "    def __init__(self):\n",
    "        self.head = None\n",
    "        self.count = 0\n",
    "    \n",
    "    def add_node(self,node):\n",
    "        node.Linkpointer(self.head)\n",
    "        self.head = node\n",
    "        self.count +=1\n",
    "    \n",
    "    def _getitem__(self,idx):\n",
    "        if idx >=self.count:\n",
    "            raise Exception(\"index out of range\")\n",
    "        else:\n",
    "            current_node = self.head\n",
    "            current_idx = 0\n",
    "            while current_idx < idx:\n",
    "                current_node = current_node.pointer\n",
    "                current_idx +=1\n",
    "            return current_node\n",
    "    \n",
    "    def __setitem__(self,idx,data):\n",
    "        if idx >= self.count:\n",
    "            raise Exception(\"index out of range\")\n",
    "        else:\n",
    "            current_node = self.head\n",
    "            current_idx = 0\n",
    "            while current_idx < idx:\n",
    "                current_node = current_node.pointer\n",
    "                current_idx +=1\n",
    "        current_node.data = data\n",
    "        return current_node\n",
    "    \n",
    "    def __delitem__(self,idx):\n",
    "        if idx>= self.count:\n",
    "            raise Exception(\"index out of range\")\n",
    "        else:\n",
    "            current_node = self.head\n",
    "            current_idx = 0\n",
    "            while current_idx < idx-1:\n",
    "                current_node = current_node.pointer\n",
    "                current_idx +=1\n",
    "        current_node.pointer= current_node.pointer.pointer\n",
    "        self.count -=1\n",
    "\n",
    "    def __contains__(self,data):\n",
    "       current_node = self.head\n",
    "       current_idx = 0\n",
    "       while current_idx < self.count:\n",
    "        if current_node.data == data:\n",
    "            return True\n",
    "        else:\n",
    "            current_node = current_node.pointer\n",
    "            current_idx +=1\n",
    "        return False\n",
    "    \n",
    "    def insert(self,idx,data):\n",
    "        new_node = Node(data)\n",
    "        current_idx = 0\n",
    "        if idx >=self.count:\n",
    "            raise Exception(\"index out of range\")\n",
    "        if idx == 0:\n",
    "            new_node.pointer = self.head\n",
    "            self.head = new_node\n",
    "            return\n",
    "        current_node  = self.head\n",
    "        while current_node is not None:\n",
    "            if current_idx== idx -1:\n",
    "                new_node.pointer = current_node.pointer\n",
    "                current_node.pointer = new_node\n",
    "                break\n",
    "            current_node = current_node.pointer\n",
    "            current_idx +=1\n",
    "    \n",
    "    def __iter__(self):\n",
    "        current_node = self.head\n",
    "        while current_node is not None:\n",
    "            yield current_node\n",
    "            current_node = current_node.pointer\n"
   ]
  }
 ],
 "metadata": {
  "kernelspec": {
   "display_name": "Python 3.10.4 64-bit",
   "language": "python",
   "name": "python3"
  },
  "language_info": {
   "codemirror_mode": {
    "name": "ipython",
    "version": 3
   },
   "file_extension": ".py",
   "mimetype": "text/x-python",
   "name": "python",
   "nbconvert_exporter": "python",
   "pygments_lexer": "ipython3",
   "version": "3.10.4"
  },
  "orig_nbformat": 4,
  "vscode": {
   "interpreter": {
    "hash": "31d86718aa02c16607ffb36e0cdbfec7bd6574c5eafc23aec75a4bc0a8ef6b38"
   }
  }
 },
 "nbformat": 4,
 "nbformat_minor": 2
}
