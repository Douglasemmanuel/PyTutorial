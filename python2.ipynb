{
 "cells": [
  {
   "cell_type": "code",
   "execution_count": 7,
   "metadata": {},
   "outputs": [
    {
     "name": "stdout",
     "output_type": "stream",
     "text": [
      "phili\n",
      "100\n",
      "Nigeria\n",
      "Programming\n",
      "Football\n"
     ]
    }
   ],
   "source": [
    "name='phili'\n",
    "Age=100\n",
    "Location='Nigeria'\n",
    "Hobby='Programming'\n",
    "Games='Football'\n",
    "print(name)\n",
    "print(Age)\n",
    "print(Location)\n",
    "print(Hobby)\n",
    "print(Games)\n",
    "\n",
    "\n",
    "\n",
    "\n",
    "\n"
   ]
  },
  {
   "cell_type": "code",
   "execution_count": 11,
   "metadata": {},
   "outputs": [
    {
     "name": "stdout",
     "output_type": "stream",
     "text": [
      "heyo\n"
     ]
    },
    {
     "data": {
      "text/plain": [
       "'He is a boy'"
      ]
     },
     "execution_count": 11,
     "metadata": {},
     "output_type": "execute_result"
    }
   ],
   "source": [
    "#Inclusion operator(in)\n",
    "\n",
    "Anam = \"boy\"\n",
    "workplace = \"roothub\"\n",
    "age =   29\n",
    "if Anam == \"girl\" and workplace == \"roothub\" :\n",
    "    print(age)\n",
    "else:\n",
    "    print(\"heyo\")\n",
    "\n",
    "\n",
    "\n",
    "# Ternary operator\n",
    "gender = \"male\"\n",
    "\"He is a boy\" if gender == \"male\"  else \"she is a girl\"\n",
    "\n"
   ]
  },
  {
   "cell_type": "code",
   "execution_count": null,
   "metadata": {},
   "outputs": [],
   "source": []
  },
  {
   "cell_type": "code",
   "execution_count": 24,
   "metadata": {},
   "outputs": [
    {
     "name": "stdout",
     "output_type": "stream",
     "text": [
      "[0, 1, 2, 3, 4, 5, 6, 7, 8, 9, 10, 11, 12, 13, 14, 15, 16, 17, 18, 19, 20, 21, 22, 23, 24, 25, 26, 27, 28, 29, 30, 31, 32, 33, 34, 35, 36, 37, 38, 39, 40, 41, 42, 43, 44, 45, 46, 47, 48, 49, 50, 51, 52, 53, 54, 55, 56, 57, 58, 59, 60, 61, 62, 63, 64, 65, 66, 67, 68, 69, 70, 71, 72, 73, 74, 75, 76, 77, 78, 79, 80, 81, 82, 83, 84, 85, 86, 87, 88, 89, 90, 91, 92, 93, 94, 95, 96, 97, 98, 99, 100]\n",
      "0\n",
      "100\n",
      "5050\n",
      "Douglas\n",
      "Douglasis the tutor here. He is for thepythonprogramming track\n",
      "Douglas is the tutor here.he is for the python programming python\n",
      "10\n",
      "390625\n",
      "3\n",
      "5.0\n",
      "25\n",
      "1\n",
      "DouglasDouglasDouglasDouglasDouglas\n",
      "<class 'int'>\n",
      "Age is 22 years old\n",
      "douglas emmanuel\n",
      "100\n",
      "nigeria\n"
     ]
    }
   ],
   "source": [
    "numbers= list(range(0,101))\n",
    "print(numbers)\n",
    "print(min(numbers))\n",
    "print(max(numbers))\n",
    "print(sum(numbers))\n",
    "\n",
    "name= 'Douglas Emmanuel'\n",
    "\n",
    "name=input('enter your name:').strip().title()\n",
    "print(name)\n",
    "track= 'python'\n",
    "print(name + 'is the tutor here. He is for the' + track +'programming track')\n",
    "print(f'{name} is the tutor here.he is for the python programming {track}')\n",
    "\n",
    "print(5+5)\n",
    "print(5**8)\n",
    "print(5-2)\n",
    "print(10/2)\n",
    "print(5*5)\n",
    "print(10 % 3)#return float numbers\n",
    "print(name*5)#modules\n",
    "\n",
    "# action=input('enter your age:')\n",
    "# print(type(action))\n",
    "birthyear=int(input('enter your birth year:'))\n",
    "print(type(birthyear))\n",
    "currentyear=2022\n",
    "age= currentyear - birthyear\n",
    "print(f'Age is {age} years old')\n",
    "\n",
    "int()\n",
    "str()\n",
    "\n",
    "\n",
    "name,age,location = 'douglas emmanuel', 100 ,'nigeria'\n",
    "print(name)\n",
    "print(age)\n",
    "print(location)\n",
    "\n",
    "\n",
    "\n"
   ]
  },
  {
   "cell_type": "code",
   "execution_count": 22,
   "metadata": {},
   "outputs": [
    {
     "name": "stdout",
     "output_type": "stream",
     "text": [
      "beans\n",
      "i love eating beans\n",
      "['bread', 'yea', 'beans', 'rice', 'egg', 'potato']\n",
      "['yea', 'beans', 'rice', 'egg', 'potato']\n",
      "['egg', 'yea', 'beans', 'rice', 'egg', 'potato']\n",
      "['egg', 'yea', 'rice', 'egg', 'potato']\n",
      "['bread', 'yea', 'beans', 'rice', 'egg', 'potato']\n"
     ]
    },
    {
     "ename": "NameError",
     "evalue": "name 'true' is not defined",
     "output_type": "error",
     "traceback": [
      "\u001b[1;31m---------------------------------------------------------------------------\u001b[0m",
      "\u001b[1;31mNameError\u001b[0m                                 Traceback (most recent call last)",
      "\u001b[1;32mc:\\Users\\faith\\Desktop\\python\\python2.ipynb Cell 3'\u001b[0m in \u001b[0;36m<cell line: 22>\u001b[1;34m()\u001b[0m\n\u001b[0;32m     <a href='vscode-notebook-cell:/c%3A/Users/faith/Desktop/python/python2.ipynb#ch0000002?line=19'>20</a>\u001b[0m \u001b[39mprint\u001b[39m(food)\n\u001b[0;32m     <a href='vscode-notebook-cell:/c%3A/Users/faith/Desktop/python/python2.ipynb#ch0000002?line=20'>21</a>\u001b[0m \u001b[39mprint\u001b[39m(food1)\n\u001b[1;32m---> <a href='vscode-notebook-cell:/c%3A/Users/faith/Desktop/python/python2.ipynb#ch0000002?line=21'>22</a>\u001b[0m food1\u001b[39m.\u001b[39msort(reverse\u001b[39m=\u001b[39mtrue)\n\u001b[0;32m     <a href='vscode-notebook-cell:/c%3A/Users/faith/Desktop/python/python2.ipynb#ch0000002?line=22'>23</a>\u001b[0m \u001b[39mprint\u001b[39m(food1)\n\u001b[0;32m     <a href='vscode-notebook-cell:/c%3A/Users/faith/Desktop/python/python2.ipynb#ch0000002?line=23'>24</a>\u001b[0m food\u001b[39m.\u001b[39mreverse()\n",
      "\u001b[1;31mNameError\u001b[0m: name 'true' is not defined"
     ]
    }
   ],
   "source": [
    "#list\n",
    "# A LIST is a datatype having a particular order of items or elements.\n",
    "\n",
    "\n",
    "food  =     ['bread', 'yea','beans','rice','egg' ,'potato']\n",
    "#index loc    0        1       2       3    4      5\n",
    "food1 = food.copy()\n",
    "print(food[2])\n",
    "print(f'i love eating {food[2]}')\n",
    "\n",
    "\n",
    "\n",
    "food[0] = 'bread'\n",
    "print(food)\n",
    "food.pop(0)\n",
    "print(food)\n",
    "food.insert(0, 'egg')\n",
    "print(food)\n",
    "del food[2]\n",
    "print(food)\n",
    "print(food1)\n",
    "\n",
    "food1.sort(reverse=true)\n",
    "print(food1)\n",
    "food.reverse()\n",
    "print(food)\n",
    "\n",
    "print(sorted(food))\n",
    "print(food)\n",
    "\n",
    "print(len(food))\n",
    "\n"
   ]
  },
  {
   "cell_type": "code",
   "execution_count": 3,
   "metadata": {},
   "outputs": [
    {
     "name": "stdout",
     "output_type": "stream",
     "text": [
      "[0, 1, 2, 3, 4, 5, 6, 7, 8, 9, 10, 11, 12, 13, 14, 15, 16, 17, 18, 19, 20, 21, 22, 23, 24, 25, 26, 27, 28, 29, 30, 31, 32, 33, 34, 35, 36, 37, 38, 39, 40, 41, 42, 43, 44, 45, 46, 47, 48, 49, 50, 51, 52, 53, 54, 55, 56, 57, 58, 59, 60, 61, 62, 63, 64, 65, 66, 67, 68, 69, 70, 71, 72, 73, 74, 75, 76, 77, 78, 79, 80, 81, 82, 83, 84, 85, 86, 87, 88, 89, 90, 91, 92, 93, 94, 95, 96, 97, 98, 99, 100]\n"
     ]
    }
   ],
   "source": [
    "\n",
    "\n",
    "\n",
    "    numbers =  list(range(0,101))\n",
    "    print(numbers)"
   ]
  },
  {
   "cell_type": "code",
   "execution_count": 16,
   "metadata": {},
   "outputs": [
    {
     "name": "stdout",
     "output_type": "stream",
     "text": [
      "Douglas\n",
      "Douglas is the tutor here.\n"
     ]
    }
   ],
   "source": [
    "name ='Douglas'\n",
    "name = input('Enter your name:').strip().title()\n",
    "\n",
    "print(name)\n",
    "\n",
    "print(name + ' is the tutor here.')\n",
    "  "
   ]
  },
  {
   "cell_type": "code",
   "execution_count": 1,
   "metadata": {},
   "outputs": [
    {
     "name": "stdout",
     "output_type": "stream",
     "text": [
      "Lawyer \n",
      "i love this Lawyer \n",
      "['i love this Lawyer ', 'i love this Doctor', 'i love this Nurse', 'i love this Engineer', 'i love this Data scientist', 'i love this model', 'i love this journalist']\n",
      "Doctor\n",
      "i love this Doctor\n",
      "['i love this Lawyer ', 'i love this Doctor', 'i love this Nurse', 'i love this Engineer', 'i love this Data scientist', 'i love this model', 'i love this journalist']\n",
      "Nurse\n",
      "i love this Nurse\n",
      "['i love this Lawyer ', 'i love this Doctor', 'i love this Nurse', 'i love this Engineer', 'i love this Data scientist', 'i love this model', 'i love this journalist']\n",
      "Engineer\n",
      "i love this Engineer\n",
      "['i love this Lawyer ', 'i love this Doctor', 'i love this Nurse', 'i love this Engineer', 'i love this Data scientist', 'i love this model', 'i love this journalist']\n",
      "Data scientist\n",
      "i love this Data scientist\n",
      "['i love this Lawyer ', 'i love this Doctor', 'i love this Nurse', 'i love this Engineer', 'i love this Data scientist', 'i love this model', 'i love this journalist']\n",
      "model\n",
      "i love this model\n",
      "['i love this Lawyer ', 'i love this Doctor', 'i love this Nurse', 'i love this Engineer', 'i love this Data scientist', 'i love this model', 'i love this journalist']\n",
      "journalist\n",
      "i love this journalist\n",
      "['i love this Lawyer ', 'i love this Doctor', 'i love this Nurse', 'i love this Engineer', 'i love this Data scientist', 'i love this model', 'i love this journalist']\n",
      "Lawyer \n",
      "['Lawyer ', 'Engineer']\n",
      "man/woman has to be the best Lawyer \n",
      "man/woman has to be the best Doctor\n",
      "man/woman has to be the best Nurse\n",
      "man/woman has to be the best Engineer\n",
      "man/woman has to be the best Data scientist\n",
      "man/woman has to be the best model\n",
      "man/woman has to be the best journalist\n",
      "Doctor\n",
      "['Lawyer ', 'Engineer']\n",
      "man/woman has to be the best Lawyer \n",
      "man/woman has to be the best Doctor\n",
      "man/woman has to be the best Nurse\n",
      "man/woman has to be the best Engineer\n",
      "man/woman has to be the best Data scientist\n",
      "man/woman has to be the best model\n",
      "man/woman has to be the best journalist\n",
      "Nurse\n",
      "['Lawyer ', 'Engineer']\n",
      "man/woman has to be the best Lawyer \n",
      "man/woman has to be the best Doctor\n",
      "man/woman has to be the best Nurse\n",
      "man/woman has to be the best Engineer\n",
      "man/woman has to be the best Data scientist\n",
      "man/woman has to be the best model\n",
      "man/woman has to be the best journalist\n",
      "Engineer\n",
      "['Lawyer ', 'Engineer']\n",
      "man/woman has to be the best Lawyer \n",
      "man/woman has to be the best Doctor\n",
      "man/woman has to be the best Nurse\n",
      "man/woman has to be the best Engineer\n",
      "man/woman has to be the best Data scientist\n",
      "man/woman has to be the best model\n",
      "man/woman has to be the best journalist\n",
      "Data scientist\n",
      "['Lawyer ', 'Engineer']\n",
      "man/woman has to be the best Lawyer \n",
      "man/woman has to be the best Doctor\n",
      "man/woman has to be the best Nurse\n",
      "man/woman has to be the best Engineer\n",
      "man/woman has to be the best Data scientist\n",
      "man/woman has to be the best model\n",
      "man/woman has to be the best journalist\n",
      "model\n",
      "['Lawyer ', 'Engineer']\n",
      "man/woman has to be the best Lawyer \n",
      "man/woman has to be the best Doctor\n",
      "man/woman has to be the best Nurse\n",
      "man/woman has to be the best Engineer\n",
      "man/woman has to be the best Data scientist\n",
      "man/woman has to be the best model\n",
      "man/woman has to be the best journalist\n",
      "True\n",
      "True\n",
      "False\n",
      "True\n",
      "False\n",
      "yes,Being a doctor is an occupation\n",
      "carpenter has to be  an occupation\n",
      "yes,Being a doctor/nurse is an occupation\n",
      "carpentry is not an occupation\n",
      "Both Medical Fields are great\n"
     ]
    }
   ],
   "source": [
    "#working in a list using the for loop,the list is the \"ITTERABLE\"\n",
    "occupations = ['Lawyer ','Doctor','Nurse','Engineer','Data scientist','model', 'journalist']\n",
    "\n",
    "for each_occupation in occupations:\n",
    "    print(each_occupation)\n",
    "    print(f'i love this {each_occupation}')\n",
    "\n",
    "\n",
    "    work=[f'i love this {each_occupation}' for each_occupation in occupations]\n",
    "    print(work)\n",
    "\n",
    "\n",
    "   \n",
    "for each_role in occupations[0:6:1]:\n",
    "    print(each_role)\n",
    "    print(occupations[0:5:3])\n",
    "\n",
    "    professions =( 'Lawyer ','Doctor','Nurse','Engineer','Data scientist','model', 'journalist')\n",
    "    for profession in professions:\n",
    "        print(f'man/woman has to be the best {profession}')\n",
    "\n",
    "print('Doctor'in occupations)\n",
    "print('Nurse'in occupations)\n",
    "print('capenter'in occupations)\n",
    "print('capenter' not in occupations)\n",
    "print('Doctor' not in occupations)\n",
    "\n",
    "if 'Doctor' in occupations:\n",
    "    print('yes,Being a doctor is an occupation')\n",
    "\n",
    "     \n",
    "if 'carpenter' not in occupations:\n",
    "    print('carpenter has to be  an occupation')\n",
    "\n",
    "if 'Doctor'  in occupations and 'Nurse' in occupations:\n",
    "    print('yes,Being a doctor/nurse is an occupation')\n",
    "\n",
    "if 'carpentry' in occupations:\n",
    "        print('carpentry is an occupation')\n",
    "else:\n",
    "        print('carpentry is not an occupation')\n",
    "\n",
    "\n",
    "if 'Doctor' in occupations and 'Dentist' in occupations:\n",
    "    print('medicine is great')\n",
    "elif'Doctor' in occupations or 'Dentist' in occupations:\n",
    "    print('Both Medical Fields are great')\n",
    "\n",
    "else:\n",
    "    print('They are not very good occupations ')"
   ]
  },
  {
   "cell_type": "code",
   "execution_count": 23,
   "metadata": {},
   "outputs": [
    {
     "name": "stdout",
     "output_type": "stream",
     "text": [
      "True\n",
      "False\n",
      "False\n"
     ]
    }
   ],
   "source": [
    "print(\"Car\" != 'Honda')\n",
    "print(\"Car\" == 'Toyota' and \"Car\".lower()== 'toyota')\n",
    "print(\"Car\" == 'Toyota' or \"Car\".lower()== 'toyota')nm\n",
    "\n"
   ]
  },
  {
   "cell_type": "code",
   "execution_count": 1,
   "metadata": {},
   "outputs": [
    {
     "name": "stdout",
     "output_type": "stream",
     "text": [
      "0\n",
      "100\n",
      "5050\n"
     ]
    },
    {
     "ename": "NameError",
     "evalue": "name 'occupations' is not defined",
     "output_type": "error",
     "traceback": [
      "\u001b[1;31m---------------------------------------------------------------------------\u001b[0m",
      "\u001b[1;31mNameError\u001b[0m                                 Traceback (most recent call last)",
      "\u001b[1;32mc:\\Users\\faith\\Desktop\\python\\python2.ipynb Cell 9'\u001b[0m in \u001b[0;36m<cell line: 9>\u001b[1;34m()\u001b[0m\n\u001b[0;32m      <a href='vscode-notebook-cell:/c%3A/Users/faith/Desktop/python/python2.ipynb#ch0000008?line=3'>4</a>\u001b[0m \u001b[39mprint\u001b[39m(\u001b[39msum\u001b[39m(numbers))\n\u001b[0;32m      <a href='vscode-notebook-cell:/c%3A/Users/faith/Desktop/python/python2.ipynb#ch0000008?line=6'>7</a>\u001b[0m medical_Occupations \u001b[39m=\u001b[39m []\n\u001b[1;32m----> <a href='vscode-notebook-cell:/c%3A/Users/faith/Desktop/python/python2.ipynb#ch0000008?line=8'>9</a>\u001b[0m \u001b[39mfor\u001b[39;00m each_occupation \u001b[39min\u001b[39;00m occupations:\n\u001b[0;32m     <a href='vscode-notebook-cell:/c%3A/Users/faith/Desktop/python/python2.ipynb#ch0000008?line=9'>10</a>\u001b[0m     \u001b[39mif\u001b[39;00m each_occupation \u001b[39m==\u001b[39m \u001b[39m'\u001b[39m\u001b[39mDoctor\u001b[39m\u001b[39m'\u001b[39m \u001b[39mor\u001b[39;00m each_occupation \u001b[39m==\u001b[39m \u001b[39m'\u001b[39m\u001b[39mNurse\u001b[39m\u001b[39m'\u001b[39m:\n\u001b[0;32m     <a href='vscode-notebook-cell:/c%3A/Users/faith/Desktop/python/python2.ipynb#ch0000008?line=10'>11</a>\u001b[0m      medical_Occupations\u001b[39m.\u001b[39mappend(each_occupation)\n",
      "\u001b[1;31mNameError\u001b[0m: name 'occupations' is not defined"
     ]
    }
   ],
   "source": [
    "numbers=list(range(0,101))\n",
    "print(min(numbers))\n",
    "print(max(numbers))\n",
    "print(sum(numbers))\n",
    "\n",
    "\n",
    "medical_Occupations = []\n",
    "\n",
    "for each_occupation in occupations:\n",
    "    if each_occupation == 'Doctor' or each_occupation == 'Nurse':\n",
    "     medical_Occupations.append(each_occupation)\n",
    "\n",
    "     print(medical_Occupations) \n",
    "     print(medical_Occupations)\n"
   ]
  },
  {
   "cell_type": "code",
   "execution_count": null,
   "metadata": {},
   "outputs": [],
   "source": []
  },
  {
   "cell_type": "code",
   "execution_count": null,
   "metadata": {},
   "outputs": [],
   "source": [
    "def sum(x,y):\n",
    "    return(x+y)\n",
    "    print(sum(sum(1,2), sum(3,4)))\n",
    "    ((10 >=5*2) and (10 <=5*2))\n",
    "\n",
    "   \n"
   ]
  },
  {
   "cell_type": "code",
   "execution_count": 9,
   "metadata": {},
   "outputs": [
    {
     "ename": "SyntaxError",
     "evalue": "expected ':' (1786970618.py, line 8)",
     "output_type": "error",
     "traceback": [
      "\u001b[1;36m  Input \u001b[1;32mIn [9]\u001b[1;36m\u001b[0m\n\u001b[1;33m    if  x!=0\u001b[0m\n\u001b[1;37m            ^\u001b[0m\n\u001b[1;31mSyntaxError\u001b[0m\u001b[1;31m:\u001b[0m expected ':'\n"
     ]
    }
   ],
   "source": [
    "def attempts(n):\n",
    "    x = 1\n",
    "while x  <= n:\n",
    "    print(\"Attempt \" + str(x))\n",
    "    x += 1\n",
    "    print(\"Done\")\n",
    "\n",
    "if  x!=0\n",
    "while x % 2 == 0:\n",
    "    x = x / 2"
   ]
  }
 ],
 "metadata": {
  "interpreter": {
   "hash": "31d86718aa02c16607ffb36e0cdbfec7bd6574c5eafc23aec75a4bc0a8ef6b38"
  },
  "kernelspec": {
   "display_name": "Python 3.10.4 64-bit",
   "language": "python",
   "name": "python3"
  },
  "language_info": {
   "codemirror_mode": {
    "name": "ipython",
    "version": 3
   },
   "file_extension": ".py",
   "mimetype": "text/x-python",
   "name": "python",
   "nbconvert_exporter": "python",
   "pygments_lexer": "ipython3",
   "version": "3.10.4"
  },
  "orig_nbformat": 4
 },
 "nbformat": 4,
 "nbformat_minor": 2
}
