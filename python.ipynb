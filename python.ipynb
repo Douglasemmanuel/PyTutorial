{
 "cells": [
  {
   "cell_type": "code",
   "execution_count": 4,
   "metadata": {},
   "outputs": [
    {
     "name": "stdout",
     "output_type": "stream",
     "text": [
      "15\n",
      "19.584\n"
     ]
    }
   ],
   "source": [
    "print(7+8)\n",
    "decimal_number =3.4\n",
    "radius = 2.4\n",
    "Area_of_circle = decimal_number * (2.4  **2)\n",
    "print(Area_of_circle)"
   ]
  },
  {
   "cell_type": "code",
   "execution_count": 18,
   "metadata": {},
   "outputs": [
    {
     "name": "stdout",
     "output_type": "stream",
     "text": [
      "23\n",
      "['tolu', 'uche', 'musa', 'john']\n",
      "('tolu', 'musa', 'james')\n",
      "{'ngozi', 'emmanuel', 'joy', 'ade', 'ali', 'bolu'}\n"
     ]
    }
   ],
   "source": [
    "number = 21\n",
    "result= (number+2)\n",
    "print(result)\n",
    "\n",
    "names =[\"tolu\",\"uche\",\"musa\",]\n",
    "names.append(\"john\")\n",
    "print(names)\n",
    "\n",
    "names_tuple = (\"tolu\",\"musa\",\"james\")\n",
    "print(names_tuple)\n",
    "\n",
    "names_set={\"ade\",\"joy\",\"ali\",\"ngozi\"}\n",
    "names_set.add(\"emmanuel\")\n",
    "names_set .add(\"bolu\")\n",
    "print(names_set)\n",
    "\n",
    "age = 20\n",
    "if age > 10\n"
   ]
  },
  {
   "cell_type": "code",
   "execution_count": 43,
   "metadata": {},
   "outputs": [
    {
     "name": "stdout",
     "output_type": "stream",
     "text": [
      "hellobrook\n",
      " this  is  pretty  neat! \n",
      "20\n",
      "3220482048.0\n",
      "yellow is the color of sunshine\n",
      " this  is  sidehustle \n",
      "<class 'float'>\n",
      " HELLO \n",
      "EVERYONE\n",
      "end today/en\n",
      "1.0\n",
      "minutes 480 \n",
      "seconds 28800\n"
     ]
    }
   ],
   "source": [
    "name=\"brook\"\n",
    "print (\"hello\" + name)\n",
    "\n",
    "print(\" this \"  + \" is \" + \" pretty \" + \" neat! \")\n",
    "\n",
    "length=10\n",
    "width=2\n",
    "area=length * width\n",
    "print(area)\n",
    "disk_size=1610241024 * 1024\n",
    "sector_size =512\n",
    "sector_amount=(1610241024 * 1024)/512\n",
    "print(sector_amount)\n",
    "color=\"yellow\"\n",
    "thing=\"sunshine\"\n",
    "print(color + \" is the color of \" + thing  )\n",
    "print(\" this \" + \" is \" + \" sidehustle \")\n",
    "print(float)\n",
    "print(\"\"\" HELLO \n",
    "EVERYONE\"\"\")\n",
    "print(\"end today/en\")\n",
    "bill=47.28\n",
    "numerator=2\n",
    "denominator=2\n",
    "result=(2/2)\n",
    "print(result)\n",
    "bill=47.28\n",
    "tip = bill*0.15\n",
    "total=bill + tip\n",
    "\n",
    "\n",
    "#def get_seconds(hours):\n",
    "   # return 3600*hours + 60*minutes + seconds\n",
    "# amount_a=get_seconds(2*hours,30*minutes)\n",
    "   # amount_b=get_seconds(45*minutes ,15*seconds)\n",
    "   # result=amount_a + amount_b\n",
    "   # print('the result is :' \"+ str(result))\")\n",
    "\n",
    "def get_seconds(hours):\n",
    "    minutes = hours*60\n",
    "    seconds = hours *60 *60\n",
    "    print(\"minutes\" ,minutes, \"\\nseconds\" ,seconds)\n",
    "hours =8\n",
    "get_seconds(hours)\n"
   ]
  },
  {
   "cell_type": "code",
   "execution_count": 33,
   "metadata": {},
   "outputs": [
    {
     "name": "stdout",
     "output_type": "stream",
     "text": [
      "value inside function: 10\n",
      "value outside function: 20\n"
     ]
    }
   ],
   "source": [
    " def  my_func():\n",
    "    x = 10\n",
    "    print(\"value inside function:\",x)\n",
    "\n",
    "x =20\n",
    "my_func()\n",
    "print(\"value outside function:\",x)"
   ]
  },
  {
   "cell_type": "code",
   "execution_count": 28,
   "metadata": {},
   "outputs": [],
   "source": [
    "def hint_username(username):\n",
    "    if len(username)< 3:\n",
    "        print (\"invalid username.must be at least 3 characters long\")\n",
    "    elif len(username) > 15:\n",
    "        print (\"invalid username.must be at most 15 characters long\")\n",
    "    else:\n",
    "        print(\"valid username\")"
   ]
  },
  {
   "cell_type": "code",
   "execution_count": 31,
   "metadata": {},
   "outputs": [
    {
     "name": "stdout",
     "output_type": "stream",
     "text": [
      "valid username\n"
     ]
    }
   ],
   "source": [
    "hint_username('ade')"
   ]
  },
  {
   "cell_type": "code",
   "execution_count": 25,
   "metadata": {},
   "outputs": [],
   "source": [
    "def hint_username(username):\n",
    "    if len(username)< 3:\n",
    "        print (\"invalid username.must be at least 3 characters long\")\n",
    "    elif len(username) > 15:\n",
    "        print (\"invalid username.must be at most 15 characters long\")\n",
    "    else:\n",
    "        print(\"valid username\")"
   ]
  },
  {
   "cell_type": "code",
   "execution_count": null,
   "metadata": {},
   "outputs": [],
   "source": [
    "def  is_even(number):\n",
    "    if number % 2 == 0:\n",
    "        return True\n",
    "        return False"
   ]
  },
  {
   "cell_type": "code",
   "execution_count": 1,
   "metadata": {},
   "outputs": [
    {
     "name": "stdout",
     "output_type": "stream",
     "text": [
      "phil\n",
      "phil800\n",
      "Nigeria\n",
      "{'username': 'phil', 'password': 'phil800', 'Location': 'Nigeria', 'mobile number': '09021003802'}\n"
     ]
    }
   ],
   "source": [
    "my_dict = {'username': 'phil',\n",
    "            'password': 'phil800',\n",
    "            'Location':'Nigeria' }\n",
    "print(my_dict['username'])\n",
    "print(my_dict['password'])\n",
    "print(my_dict['Location'])\n",
    "my_dict['mobile number'] = '09021003802'\n",
    "print(my_dict)"
   ]
  },
  {
   "cell_type": "code",
   "execution_count": null,
   "metadata": {},
   "outputs": [],
   "source": [
    "import pandas as pd\n",
    "import numpy as np\n"
   ]
  }
 ],
 "metadata": {
  "kernelspec": {
   "display_name": "Python 3.10.4 64-bit",
   "language": "python",
   "name": "python3"
  },
  "language_info": {
   "codemirror_mode": {
    "name": "ipython",
    "version": 3
   },
   "file_extension": ".py",
   "mimetype": "text/x-python",
   "name": "python",
   "nbconvert_exporter": "python",
   "pygments_lexer": "ipython3",
   "version": "3.10.4"
  },
  "orig_nbformat": 4,
  "vscode": {
   "interpreter": {
    "hash": "31d86718aa02c16607ffb36e0cdbfec7bd6574c5eafc23aec75a4bc0a8ef6b38"
   }
  }
 },
 "nbformat": 4,
 "nbformat_minor": 2
}
